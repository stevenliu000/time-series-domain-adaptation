{
 "cells": [
  {
   "cell_type": "code",
   "execution_count": 2,
   "metadata": {},
   "outputs": [],
   "source": [
    "import pandas\n",
    "import matplotlib.pyplot as plt\n",
    "record_path_3Av2 = \"data_resultsb400.e500.lr0.0001.task3Av2/FNN_log.outb400.e500.lr0.0001.task3Av2\"\n",
    "record_path_3E = \"data_resultsb400.e500.lr0.0001.task3E/FNN_log.outb400.e500.lr0.0001.task3E\"\n",
    "\n",
    "record_source = [record_path_3Av2, record_path_3E][0]\n",
    "dat = pandas.read_table(record_source)"
   ]
  },
  {
   "cell_type": "code",
   "execution_count": 9,
   "metadata": {},
   "outputs": [
    {
     "data": {
      "text/plain": [
       "[<matplotlib.lines.Line2D at 0x7fc339773550>]"
      ]
     },
     "execution_count": 9,
     "metadata": {},
     "output_type": "execute_result"
    },
    {
     "data": {
      "image/png": "[encoded data removed]",
      "text/plain": [
       "<Figure size 432x288 with 1 Axes>"
      ]
     },
     "metadata": {
      "needs_background": "light"
     },
     "output_type": "display_data"
    }
   ],
   "source": [
    "x = [i for i in range(dat.shape[0])]\n",
    "\n",
    "plt.plot(x, dat['train_acc'])\n",
    "plt.plot(x, dat['validation_acc'])"
   ]
  },
  {
   "cell_type": "code",
   "execution_count": 7,
   "metadata": {},
   "outputs": [
    {
     "data": {
      "text/html": [
       "<div>\n",
       "<style scoped>\n",
       "    .dataframe tbody tr th:only-of-type {\n",
       "        vertical-align: middle;\n",
       "    }\n",
       "\n",
       "    .dataframe tbody tr th {\n",
       "        vertical-align: top;\n",
       "    }\n",
       "\n",
       "    .dataframe thead th {\n",
       "        text-align: right;\n",
       "    }\n",
       "</style>\n",
       "<table border=\"1\" class=\"dataframe\">\n",
       "  <thead>\n",
       "    <tr style=\"text-align: right;\">\n",
       "      <th></th>\n",
       "      <th>Epoch</th>\n",
       "      <th>Time</th>\n",
       "      <th>train_acc</th>\n",
       "      <th>train_loss</th>\n",
       "      <th>validation_acc</th>\n",
       "    </tr>\n",
       "  </thead>\n",
       "  <tbody>\n",
       "    <tr>\n",
       "      <th>0</th>\n",
       "      <td>0</td>\n",
       "      <td>5.55</td>\n",
       "      <td>0.024082</td>\n",
       "      <td>3.976459</td>\n",
       "      <td>0.00</td>\n",
       "    </tr>\n",
       "    <tr>\n",
       "      <th>1</th>\n",
       "      <td>1</td>\n",
       "      <td>4.94</td>\n",
       "      <td>0.063469</td>\n",
       "      <td>3.862768</td>\n",
       "      <td>0.11</td>\n",
       "    </tr>\n",
       "    <tr>\n",
       "      <th>2</th>\n",
       "      <td>2</td>\n",
       "      <td>4.93</td>\n",
       "      <td>0.126735</td>\n",
       "      <td>3.777387</td>\n",
       "      <td>0.08</td>\n",
       "    </tr>\n",
       "    <tr>\n",
       "      <th>3</th>\n",
       "      <td>3</td>\n",
       "      <td>4.93</td>\n",
       "      <td>0.169796</td>\n",
       "      <td>3.616192</td>\n",
       "      <td>0.14</td>\n",
       "    </tr>\n",
       "    <tr>\n",
       "      <th>4</th>\n",
       "      <td>4</td>\n",
       "      <td>4.95</td>\n",
       "      <td>0.227143</td>\n",
       "      <td>3.349618</td>\n",
       "      <td>0.13</td>\n",
       "    </tr>\n",
       "    <tr>\n",
       "      <th>...</th>\n",
       "      <td>...</td>\n",
       "      <td>...</td>\n",
       "      <td>...</td>\n",
       "      <td>...</td>\n",
       "      <td>...</td>\n",
       "    </tr>\n",
       "    <tr>\n",
       "      <th>495</th>\n",
       "      <td>495</td>\n",
       "      <td>4.93</td>\n",
       "      <td>1.000000</td>\n",
       "      <td>0.000216</td>\n",
       "      <td>0.42</td>\n",
       "    </tr>\n",
       "    <tr>\n",
       "      <th>496</th>\n",
       "      <td>496</td>\n",
       "      <td>4.93</td>\n",
       "      <td>1.000000</td>\n",
       "      <td>0.000216</td>\n",
       "      <td>0.43</td>\n",
       "    </tr>\n",
       "    <tr>\n",
       "      <th>497</th>\n",
       "      <td>497</td>\n",
       "      <td>4.93</td>\n",
       "      <td>1.000000</td>\n",
       "      <td>0.000214</td>\n",
       "      <td>0.42</td>\n",
       "    </tr>\n",
       "    <tr>\n",
       "      <th>498</th>\n",
       "      <td>498</td>\n",
       "      <td>4.93</td>\n",
       "      <td>1.000000</td>\n",
       "      <td>0.000213</td>\n",
       "      <td>0.43</td>\n",
       "    </tr>\n",
       "    <tr>\n",
       "      <th>499</th>\n",
       "      <td>499</td>\n",
       "      <td>4.93</td>\n",
       "      <td>1.000000</td>\n",
       "      <td>0.000211</td>\n",
       "      <td>0.43</td>\n",
       "    </tr>\n",
       "  </tbody>\n",
       "</table>\n",
       "<p>500 rows × 5 columns</p>\n",
       "</div>"
      ],
      "text/plain": [
       "     Epoch  Time  train_acc  train_loss  validation_acc\n",
       "0        0  5.55   0.024082    3.976459            0.00\n",
       "1        1  4.94   0.063469    3.862768            0.11\n",
       "2        2  4.93   0.126735    3.777387            0.08\n",
       "3        3  4.93   0.169796    3.616192            0.14\n",
       "4        4  4.95   0.227143    3.349618            0.13\n",
       "..     ...   ...        ...         ...             ...\n",
       "495    495  4.93   1.000000    0.000216            0.42\n",
       "496    496  4.93   1.000000    0.000216            0.43\n",
       "497    497  4.93   1.000000    0.000214            0.42\n",
       "498    498  4.93   1.000000    0.000213            0.43\n",
       "499    499  4.93   1.000000    0.000211            0.43\n",
       "\n",
       "[500 rows x 5 columns]"
      ]
     },
     "execution_count": 7,
     "metadata": {},
     "output_type": "execute_result"
    }
   ],
   "source": [
    "dat"
   ]
  },
  {
   "cell_type": "code",
   "execution_count": null,
   "metadata": {},
   "outputs": [],
   "source": []
  }
 ],
 "metadata": {
  "kernelspec": {
   "display_name": "Python 3",
   "language": "python",
   "name": "python3"
  },
  "language_info": {
   "codemirror_mode": {
    "name": "ipython",
    "version": 3
   },
   "file_extension": ".py",
   "mimetype": "text/x-python",
   "name": "python",
   "nbconvert_exporter": "python",
   "pygments_lexer": "ipython3",
   "version": "3.6.10"
  }
 },
 "nbformat": 4,
 "nbformat_minor": 4
}
