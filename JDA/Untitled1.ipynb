{
 "cells": [
  {
   "cell_type": "code",
   "execution_count": 27,
   "metadata": {},
   "outputs": [
    {
     "data": {
      "text/plain": [
       "(14170, 65)"
      ]
     },
     "execution_count": 27,
     "metadata": {},
     "output_type": "execute_result"
    }
   ],
   "source": [
    "import numpy as np\n",
    "path_train = \"../data_unzip/processed_file_{}.pkl\"\n",
    "dataset = [\"3Av2\", \"3E\"]\n",
    "\n",
    "dataname = dataset[1]\n",
    "data_ = np.load(path_train.format(dataname), allow_pickle=True)\n",
    "data_['tr_lbl'].shape"
   ]
  },
  {
   "cell_type": "code",
   "execution_count": 36,
   "metadata": {},
   "outputs": [
    {
     "name": "stdout",
     "output_type": "stream",
     "text": [
      "(100, 1600, 2) (100, 50)\n"
     ]
    }
   ],
   "source": [
    "import numpy as np\n",
    "dataname = dataset[0]\n",
    "data_ = np.load(path_train.format(dataname), allow_pickle=True)\n",
    "\n",
    "name_class = 50 if dataname == '3Av2' else 65\n",
    "vali_num = 2 if dataname == '3Av2' else 4 \n",
    "\n",
    "tmp = {i:[] for i in range(name_class)}\n",
    "\n",
    "np.random.seed(0)\n",
    "\n",
    "train_data = data_['tr_data']\n",
    "train_lbl = data_['tr_lbl']\n",
    "\n",
    "index = np.random.permutation(train_data.shape[0])\n",
    "\n",
    "train_data = train_data[index, :]\n",
    "train_lbl = train_lbl[index, :]\n",
    "lbl = np.argmax(train_lbl, axis = 1)\n",
    "\n",
    "train_data_ = []\n",
    "train_lbl_ = []\n",
    "\n",
    "for i in range(len(lbl)):\n",
    "    if len(tmp[lbl[i]]) < vali_num:\n",
    "        tmp[lbl[i]].append(train_data[i,:])\n",
    "    else:\n",
    "        train_data_.append(train_data[i,:])\n",
    "        train_lbl_.append(train_lbl[i,:])\n",
    "    \n",
    "vali_data = []\n",
    "vali_lbl = []\n",
    "\n",
    "for key, value in tmp.items():\n",
    "    vali_data.extend(value)\n",
    "    one_hot_lbl = np.zeros(name_class)\n",
    "    one_hot_lbl[key] = 1.\n",
    "    vali_lbl.extend([one_hot_lbl.astype('float32')] * vali_num)\n",
    "    \n",
    "np.random.seed(0)\n",
    "index = np.random.permutation(vali_num * name_class)\n",
    "vali_data = np.array(vali_data)\n",
    "vali_lbl = np.array(vali_lbl)\n",
    "print(vali_data.shape, vali_lbl.shape)\n",
    "\n",
    "vali_data = vali_data[index,:]\n",
    "vali_lbl = vali_lbl[index,:]\n",
    "\n",
    "\n",
    "vali_data_dict = {'va_data': vali_data, 'va_lbl': vali_lbl}\n",
    "train_data_dict = {'tr_data': train_data_, 'tr_lbl': train_lbl_}\n",
    "\n",
    "import pickle\n",
    "f = open(\"./validation_{}.pkl\".format(dataname),\"wb\")\n",
    "pickle.dump(vali_data_, f)\n",
    "f.close()\n",
    "f = open(\"./train_{}.pkl\".format(dataname),\"wb\")\n",
    "pickle.dump(vali_data_, f)\n",
    "f.close()\n"
   ]
  },
  {
   "cell_type": "code",
   "execution_count": null,
   "metadata": {},
   "outputs": [],
   "source": []
  }
 ],
 "metadata": {
  "kernelspec": {
   "display_name": "Python 3",
   "language": "python",
   "name": "python3"
  },
  "language_info": {
   "codemirror_mode": {
    "name": "ipython",
    "version": 3
   },
   "file_extension": ".py",
   "mimetype": "text/x-python",
   "name": "python",
   "nbconvert_exporter": "python",
   "pygments_lexer": "ipython3",
   "version": "3.6.9"
  }
 },
 "nbformat": 4,
 "nbformat_minor": 4
}
