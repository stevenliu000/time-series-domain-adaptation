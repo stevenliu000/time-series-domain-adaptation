{
 "cells": [
  {
   "cell_type": "code",
   "execution_count": 58,
   "metadata": {},
   "outputs": [],
   "source": [
    "import torch\n",
    "\n",
    "\n",
    "\n",
    "class BinaryLoss(torch.nn.Module):\n",
    "    def __init__(self):\n",
    "        super().__init__()\n",
    "    \n",
    "\n",
    "    def forward(self, target_x_embedding, target_y, source_x_embedding, source_y):\n",
    "        \"\"\"\n",
    "        target_x_embedding:  torch.Size([100, 500])\n",
    "        target_y: torch.Size([100])\n",
    "        source_x_embedding: torch.Size([100, 500])\n",
    "        source_y: torch.Size([100])\n",
    "        \"\"\"\n",
    "        # combination\n",
    "        assert target_x_embedding.size(0) == source_x_embedding.size(0)\n",
    "        target_index = torch.randperm(target_x_embedding.size(0))\n",
    "        source_index = torch.randperm(source_x_embedding.size(0))\n",
    "        target_x_embedding_rand = target_x_embedding[target_index]\n",
    "        sourece_x_embedding_rand = source_x_embedding[source_index]\n",
    "        target_y_rand = target_y[target_index]\n",
    "        source_y_rand = source_y[source_index]\n",
    "        \n",
    "        # logit as vector innner product\n",
    "        logit_all = target_x_embedding_rand * sourece_x_embedding_rand\n",
    "        \n",
    "        # same class label 1, else 0\n",
    "        class_same = (target_y_rand == source_y_rand).long()\n",
    "        \n",
    "        criterion_crossentropy = torch.nn.CrossEntropyLoss()\n",
    "        loss = criterion_crossentropy(logit_all, class_same)\n",
    "        return loss"
   ]
  },
  {
   "cell_type": "code",
   "execution_count": 59,
   "metadata": {},
   "outputs": [
    {
     "data": {
      "text/plain": [
       "tensor(1.5629, grad_fn=<NllLossBackward>)"
      ]
     },
     "execution_count": 59,
     "metadata": {},
     "output_type": "execute_result"
    }
   ],
   "source": [
    "# a = torch.randn((2,3), requires_grad=True)\n",
    "# b = torch.randn((2,3), requires_grad=True)\n",
    "\n",
    "# a_lbl = torch.randint(0,10,(2,))\n",
    "# b_lbl = torch.randint(0,10,(2,))\n",
    "# device = torch.device('cuda:0' if torch.cuda.is_available() else 'cpu')\n",
    "# m = BinaryLoss().to(device)\n",
    "# loss = m(a, a_lbl, b, b_lbl)\n",
    "# loss.backward()\n",
    "# loss"
   ]
  }
 ],
 "metadata": {
  "kernelspec": {
   "display_name": "russ",
   "language": "python",
   "name": "russ"
  },
  "language_info": {
   "codemirror_mode": {
    "name": "ipython",
    "version": 3
   },
   "file_extension": ".py",
   "mimetype": "text/x-python",
   "name": "python",
   "nbconvert_exporter": "python",
   "pygments_lexer": "ipython3",
   "version": "3.8.2"
  }
 },
 "nbformat": 4,
 "nbformat_minor": 2
}
