{
 "cells": [
  {
   "cell_type": "code",
   "execution_count": 26,
   "metadata": {},
   "outputs": [],
   "source": [
    "import torch.nn as nn\n",
    "import torch\n",
    "\n",
    "\n",
    "\n",
    "class BinaryLoss(torch.nn.Module):\n",
    "    def __init__(self, device):\n",
    "        super().__init__()\n",
    "        self.device = device\n",
    "    \n",
    "\n",
    "    def forward(self, target_x_embedding, target_y, source_x_embedding, source_y):\n",
    "        \"\"\"\n",
    "        target_x_embedding:  torch.Size([100, 500])\n",
    "        target_y: torch.Size([100])\n",
    "        source_x_embedding: torch.Size([100, 500])\n",
    "        source_y: torch.Size([100])\n",
    "        \"\"\"\n",
    "        # combination\n",
    "        \n",
    "        assert target_x_embedding.size(0) == source_x_embedding.size(0)\n",
    "        target_index = torch.randperm(target_x_embedding.size(0))\n",
    "        source_index = torch.randperm(source_x_embedding.size(0))\n",
    "        target_x_embedding_rand = target_x_embedding[target_index]\n",
    "        sourece_x_embedding_rand = source_x_embedding[source_index]\n",
    "        target_y_rand = target_y[target_index]\n",
    "        source_y_rand = source_y[source_index]\n",
    "        \n",
    "        # logit as vector innner product\n",
    "        logit_all = torch.sum(target_x_embedding_rand * sourece_x_embedding_rand, axis=1)\n",
    "        # same class label 1, else 0\n",
    "        class_same = (target_y_rand == source_y_rand).float()\n",
    "        m = nn.Sigmoid()\n",
    "        loss = nn.BCELoss()\n",
    "        output = loss(m(logit_all), class_same)\n",
    "        return output"
   ]
  },
  {
   "cell_type": "code",
   "execution_count": 27,
   "metadata": {},
   "outputs": [],
   "source": [
    "# target_x_embedding = torch.randn((100,500), requires_grad=True)\n",
    "# source_x_embedding = torch.randn((100,500), requires_grad=True)\n",
    "\n",
    "# target_y = torch.ones(100,)\n",
    "# source_y = torch.ones(100,)\n",
    "\n",
    "\n",
    "# device = torch.device('cuda:0' if torch.cuda.is_available() else 'cpu')\n",
    "# m = BinaryLoss(device).to(device)\n",
    "# loss = m(target_x_embedding, target_y, source_x_embedding, source_y)\n",
    "# loss.backward()\n",
    "# loss"
   ]
  }
 ],
 "metadata": {
  "kernelspec": {
   "display_name": "russ",
   "language": "python",
   "name": "russ"
  },
  "language_info": {
   "codemirror_mode": {
    "name": "ipython",
    "version": 3
   },
   "file_extension": ".py",
   "mimetype": "text/x-python",
   "name": "python",
   "nbconvert_exporter": "python",
   "pygments_lexer": "ipython3",
   "version": "3.8.2"
  }
 },
 "nbformat": 4,
 "nbformat_minor": 2
}
