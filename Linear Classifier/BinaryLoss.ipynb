{
 "cells": [
  {
   "cell_type": "code",
   "execution_count": 128,
   "metadata": {},
   "outputs": [],
   "source": [
    "import torch.nn.functional as F\n",
    "import torch\n",
    "from torch.autograd import Variable\n",
    "\n",
    "\n",
    "class BinaryLoss(torch.nn.Module):\n",
    "    def __init__(self):\n",
    "        super().__init__()\n",
    "    \n",
    "\n",
    "    def forward(self, target_x_embedding, target_y, source_x_embedding, source_y):\n",
    "        \"\"\"\n",
    "        target_x_embedding:  torch.Size([100, 500])\n",
    "        target_y: torch.Size([100])\n",
    "        source_x_embedding: torch.Size([100, 500])\n",
    "        source_y: torch.Size([100])\n",
    "        \"\"\"\n",
    "        # combination\n",
    "        \n",
    "        assert target_x_embedding.size(0) == source_x_embedding.size(0)\n",
    "        target_index = torch.randperm(target_x_embedding.size(0))\n",
    "        source_index = torch.randperm(source_x_embedding.size(0))\n",
    "        target_x_embedding_rand = target_x_embedding[target_index]\n",
    "        sourece_x_embedding_rand = source_x_embedding[source_index]\n",
    "        target_y_rand = target_y[target_index]\n",
    "        source_y_rand = source_y[source_index]\n",
    "        \n",
    "        # logit as vector innner product\n",
    "        logit_all = F.sigmoid(torch.sum(target_x_embedding_rand * sourece_x_embedding_rand, axis=1)).view(-1,1)\n",
    "        \n",
    "        input_ = torch.cat((1 - logit_all, logit_all), axis=1)\n",
    "        \n",
    "        # same class label 1, else 0\n",
    "        class_same = (target_y_rand == source_y_rand).long().view(-1,1)\n",
    "        class_same_one_hot = torch.FloatTensor(target_x_embedding.size(0), 2).to(device)\n",
    "        class_same_one_hot.zero_()\n",
    "        class_same_one_hot.scatter_(1, class_same, 1)\n",
    "\n",
    "        loss = F.binary_cross_entropy(input_, class_same_one_hot)\n",
    "\n",
    "        return loss"
   ]
  },
  {
   "cell_type": "code",
   "execution_count": 132,
   "metadata": {},
   "outputs": [],
   "source": [
    "# a = torch.ones((2,3), requires_grad=True)\n",
    "# b = torch.ones((2,3), requires_grad=True)\n",
    "\n",
    "# a_lbl = torch.randint(0,1,(2,))\n",
    "# b_lbl = torch.randint(0,1,(2,))\n",
    "# print(a_lbl)\n",
    "# print(b_lbl)\n",
    "# device = torch.device('cuda:0' if torch.cuda.is_available() else 'cpu')\n",
    "# m = BinaryLoss().to(device)\n",
    "# loss = m(a, a_lbl, b, b_lbl)\n",
    "# loss.backward()\n",
    "# loss"
   ]
  },
  {
   "cell_type": "code",
   "execution_count": null,
   "metadata": {},
   "outputs": [],
   "source": []
  }
 ],
 "metadata": {
  "kernelspec": {
   "display_name": "russ",
   "language": "python",
   "name": "russ"
  },
  "language_info": {
   "codemirror_mode": {
    "name": "ipython",
    "version": 3
   },
   "file_extension": ".py",
   "mimetype": "text/x-python",
   "name": "python",
   "nbconvert_exporter": "python",
   "pygments_lexer": "ipython3",
   "version": "3.8.2"
  }
 },
 "nbformat": 4,
 "nbformat_minor": 2
}
