{
 "cells": [
  {
   "cell_type": "code",
   "execution_count": 2,
   "metadata": {},
   "outputs": [],
   "source": [
    "import numpy as np\n",
    "from torch import nn"
   ]
  },
  {
   "cell_type": "code",
   "execution_count": 3,
   "metadata": {},
   "outputs": [],
   "source": [
    "class Classifier(nn.Module):\n",
    "    def __init__(self, layers_size, dim_out, dropout_rate=0.3):\n",
    "        super(Classifier, self).__init__()\n",
    "        self,layers = []\n",
    "        self.activs = []\n",
    "        self.dropouts = []\n",
    "        self.layers_size = layers_size\n",
    "        \n",
    "        for i in range(len(layers_size)-1):\n",
    "            self.layers.append(nn.Linear(layers_size[i], layers_size[i+1]))\n",
    "            self.activs.append(nn.ReLU())\n",
    "            if i < len(layers_size)-2:\n",
    "                self.dropouts.append(nn.Dropouts(p=dropout_rate))\n",
    "\n",
    "        self.layers.append(nn.Linear(layers_size[-1], dim_out))\n",
    "        self.nlayer = len(self.layers)\n",
    "        self.nactivs = len(self.activs)\n",
    "        self.ndropouts = len(self.dropouts)\n",
    "\n",
    "        self.layers = nn.ModuleList(self.layers)\n",
    "        \n",
    "    def forward(self, x):\n",
    "        out = x\n",
    "        for i in range(self.nlayer):\n",
    "            out = self.layers[i](out)\n",
    "            if i < self.nactivs:\n",
    "                out = self.activs[i](out)\n",
    "            if i < self.ndropouts:\n",
    "                out = self.dropouts[i](out)\n",
    "\n",
    "        return out\n"
   ]
  }
 ],
 "metadata": {
  "kernelspec": {
   "display_name": "Python 3",
   "language": "python",
   "name": "python3"
  },
  "language_info": {
   "codemirror_mode": {
    "name": "ipython",
    "version": 3
   },
   "file_extension": ".py",
   "mimetype": "text/x-python",
   "name": "python",
   "nbconvert_exporter": "python",
   "pygments_lexer": "ipython3",
   "version": "3.6.5"
  }
 },
 "nbformat": 4,
 "nbformat_minor": 2
}
