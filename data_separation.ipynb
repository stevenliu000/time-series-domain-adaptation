{
 "cells": [
  {
   "cell_type": "code",
   "execution_count": 21,
   "metadata": {},
   "outputs": [],
   "source": [
    "import numpy as np\n",
    "import random\n",
    "seed = 0\n",
    "data_path = \"/Users/stevenliu/time-series-adaption/time-series-domain-adaptation/data_unzip/\"\n",
    "save_path = \"/Users/stevenliu/time-series-adaption/time-series-domain-adaptation/data_unzip/\"\n",
    "task = '3E'\n",
    "file_name = \"processed_file_%s.pkl\"%task"
   ]
  },
  {
   "cell_type": "markdown",
   "metadata": {},
   "source": [
    "# Load data"
   ]
  },
  {
   "cell_type": "code",
   "execution_count": 2,
   "metadata": {},
   "outputs": [],
   "source": [
    "total_data = np.load(data_path+file_name, allow_pickle=True)\n",
    "source_all_x = total_data['tr_data']\n",
    "source_all_y = total_data['tr_lbl']\n",
    "target_all_x = total_data['te_data']\n",
    "target_all_y = total_data['te_lbl']"
   ]
  },
  {
   "cell_type": "markdown",
   "metadata": {},
   "source": [
    "# Not one hot encoding"
   ]
  },
  {
   "cell_type": "code",
   "execution_count": 3,
   "metadata": {},
   "outputs": [],
   "source": [
    "source_all_y_not_one_hot = np.argmax(source_all_y,axis=1)\n",
    "target_all_y_not_one_hot = np.argmax(target_all_y,axis=1)"
   ]
  },
  {
   "cell_type": "markdown",
   "metadata": {},
   "source": [
    "# Shuffle Data"
   ]
  },
  {
   "cell_type": "code",
   "execution_count": 4,
   "metadata": {},
   "outputs": [],
   "source": [
    "np.random.seed(seed)\n",
    "shuffled_indice_source = np.random.permutation(source_all_x.shape[0])\n",
    "np.random.seed(seed)\n",
    "shuffled_indice_target = np.random.permutation(target_all_x.shape[0])\n",
    "\n",
    "source_all_x_shuffled = source_all_x[shuffled_indice_source]\n",
    "source_all_y_shuffled = source_all_y_not_one_hot[shuffled_indice_source]\n",
    "target_all_x_shuffled = target_all_x[shuffled_indice_target]\n",
    "target_all_y_shuffled = target_all_y_not_one_hot[shuffled_indice_target]"
   ]
  },
  {
   "cell_type": "markdown",
   "metadata": {},
   "source": [
    "# Construct class dict"
   ]
  },
  {
   "cell_type": "code",
   "execution_count": 97,
   "metadata": {},
   "outputs": [],
   "source": [
    "def get_class_data_dict(data, lbl, num_class):\n",
    "    '''\n",
    "    construct a dict {label: data}\n",
    "    '''\n",
    "    lbl_not_one_hot = lbl\n",
    "    result = {i:[] for i in range(num_class)}\n",
    "    for label in result:\n",
    "        index = np.argwhere(lbl_not_one_hot==label)[:,0] # np.argwhere return (num_lbl_in_this_class, 1)\n",
    "        result[label] = data[index]\n",
    "\n",
    "    return result"
   ]
  },
  {
   "cell_type": "code",
   "execution_count": 98,
   "metadata": {},
   "outputs": [],
   "source": [
    "source_dict = get_class_data_dict(source_all_x_shuffled, source_all_y_shuffled, source_all_y.shape[1])\n",
    "target_dict = get_class_data_dict(target_all_x_shuffled, target_all_y_shuffled, target_all_y.shape[1])"
   ]
  },
  {
   "cell_type": "code",
   "execution_count": null,
   "metadata": {},
   "outputs": [],
   "source": [
    "source_all_x_shuffled"
   ]
  },
  {
   "cell_type": "code",
   "execution_count": 99,
   "metadata": {},
   "outputs": [
    {
     "data": {
      "text/plain": [
       "(109, 1600, 2)"
      ]
     },
     "execution_count": 99,
     "metadata": {},
     "output_type": "execute_result"
    }
   ],
   "source": [
    "target_dict[0].shape"
   ]
  },
  {
   "cell_type": "markdown",
   "metadata": {},
   "source": [
    "# Separate Percentage"
   ]
  },
  {
   "cell_type": "code",
   "execution_count": 86,
   "metadata": {},
   "outputs": [],
   "source": [
    "def separate_data_by_percentage(data_dict, known_percentage):\n",
    "    unknown_label_x = []\n",
    "    unknown_label_y = []\n",
    "    known_label_x = []\n",
    "    known_label_y = []\n",
    "    for label, data in data_dict.items():\n",
    "        num_in_this_label = data.shape[0]\n",
    "        known_num_in_this_label = int(known_percentage * num_in_this_label)\n",
    "        unknown_num_in_this_label = num_in_this_label - known_num_in_this_label\n",
    "        np.random.seed(seed)\n",
    "        known_indices = np.random.choice(num_in_this_label, known_num_in_this_label, replace=False)\n",
    "        unknown_indices = np.delete(np.arange(0, num_in_this_label), known_indices)\n",
    "        \n",
    "        assert unknown_indices.shape[0]+known_indices.shape[0] == num_in_this_label\n",
    "        assert known_indices.shape[0] == known_num_in_this_label\n",
    "        assert unknown_indices.shape[0] == unknown_num_in_this_label\n",
    "        assert any(np.isin(unknown_indices,known_indices)) == False\n",
    "        \n",
    "        known_label_x.extend(data[known_indices])\n",
    "        print(data[known_indices].shape)\n",
    "        unknown_label_x.extend(data[unknown_indices])\n",
    "        known_label_y.extend([label] * known_num_in_this_label)\n",
    "        unknown_label_y.extend([label] * unknown_num_in_this_label)\n",
    "        \n",
    "    return (np.array(known_label_x), np.array(known_label_y)), (np.array(unknown_label_x), np.array(unknown_label_y))\n",
    "        "
   ]
  },
  {
   "cell_type": "code",
   "execution_count": 79,
   "metadata": {},
   "outputs": [],
   "source": [
    "num_in_this_label = 106\n",
    "known_num_in_this_label = int(106*0.7)\n",
    "known_indices = np.random.choice(num_in_this_label, known_num_in_this_label, replace=False)\n",
    "full_indices = np.arange(0, num_in_this_label)\n",
    "unknown_indices = np.delete(full_indices, known_indices)"
   ]
  },
  {
   "cell_type": "code",
   "execution_count": 68,
   "metadata": {},
   "outputs": [
    {
     "data": {
      "text/plain": [
       "(74,)"
      ]
     },
     "execution_count": 68,
     "metadata": {},
     "output_type": "execute_result"
    }
   ],
   "source": [
    "known_indices.shape"
   ]
  },
  {
   "cell_type": "code",
   "execution_count": 69,
   "metadata": {},
   "outputs": [
    {
     "data": {
      "text/plain": [
       "(32,)"
      ]
     },
     "execution_count": 69,
     "metadata": {},
     "output_type": "execute_result"
    }
   ],
   "source": [
    "unknown_indices = np.delete(np.arange(0, num_in_this_label), known_indices)\n",
    "unknown_indices.shape"
   ]
  },
  {
   "cell_type": "code",
   "execution_count": 64,
   "metadata": {},
   "outputs": [
    {
     "data": {
      "text/plain": [
       "(52,)"
      ]
     },
     "execution_count": 64,
     "metadata": {},
     "output_type": "execute_result"
    }
   ],
   "source": [
    "unknown_indices.shape"
   ]
  },
  {
   "cell_type": "code",
   "execution_count": 70,
   "metadata": {},
   "outputs": [
    {
     "data": {
      "text/plain": [
       "False"
      ]
     },
     "execution_count": 70,
     "metadata": {},
     "output_type": "execute_result"
    }
   ],
   "source": [
    "any(np.isin(unknown_indices,known_indices))"
   ]
  },
  {
   "cell_type": "code",
   "execution_count": 39,
   "metadata": {},
   "outputs": [
    {
     "data": {
      "text/plain": [
       "(74,)"
      ]
     },
     "execution_count": 39,
     "metadata": {},
     "output_type": "execute_result"
    }
   ],
   "source": [
    "known_indices.shape"
   ]
  },
  {
   "cell_type": "code",
   "execution_count": 87,
   "metadata": {},
   "outputs": [
    {
     "name": "stdout",
     "output_type": "stream",
     "text": [
      "(76, 1, 1600, 2)\n",
      "(76, 1, 1600, 2)\n",
      "(76, 1, 1600, 2)\n",
      "(76, 1, 1600, 2)\n",
      "(76, 1, 1600, 2)\n",
      "(76, 1, 1600, 2)\n",
      "(76, 1, 1600, 2)\n",
      "(76, 1, 1600, 2)\n",
      "(76, 1, 1600, 2)\n",
      "(76, 1, 1600, 2)\n",
      "(76, 1, 1600, 2)\n",
      "(76, 1, 1600, 2)\n",
      "(76, 1, 1600, 2)\n",
      "(76, 1, 1600, 2)\n",
      "(76, 1, 1600, 2)\n",
      "(76, 1, 1600, 2)\n",
      "(76, 1, 1600, 2)\n",
      "(76, 1, 1600, 2)\n",
      "(76, 1, 1600, 2)\n",
      "(76, 1, 1600, 2)\n",
      "(76, 1, 1600, 2)\n",
      "(76, 1, 1600, 2)\n",
      "(76, 1, 1600, 2)\n",
      "(76, 1, 1600, 2)\n",
      "(76, 1, 1600, 2)\n",
      "(76, 1, 1600, 2)\n",
      "(76, 1, 1600, 2)\n",
      "(76, 1, 1600, 2)\n",
      "(76, 1, 1600, 2)\n",
      "(76, 1, 1600, 2)\n",
      "(76, 1, 1600, 2)\n",
      "(76, 1, 1600, 2)\n",
      "(76, 1, 1600, 2)\n",
      "(76, 1, 1600, 2)\n",
      "(76, 1, 1600, 2)\n",
      "(76, 1, 1600, 2)\n",
      "(76, 1, 1600, 2)\n",
      "(76, 1, 1600, 2)\n",
      "(76, 1, 1600, 2)\n",
      "(76, 1, 1600, 2)\n",
      "(76, 1, 1600, 2)\n",
      "(76, 1, 1600, 2)\n",
      "(76, 1, 1600, 2)\n",
      "(76, 1, 1600, 2)\n",
      "(76, 1, 1600, 2)\n",
      "(76, 1, 1600, 2)\n",
      "(76, 1, 1600, 2)\n",
      "(76, 1, 1600, 2)\n",
      "(76, 1, 1600, 2)\n",
      "(76, 1, 1600, 2)\n",
      "(76, 1, 1600, 2)\n",
      "(76, 1, 1600, 2)\n",
      "(76, 1, 1600, 2)\n",
      "(76, 1, 1600, 2)\n",
      "(76, 1, 1600, 2)\n",
      "(76, 1, 1600, 2)\n",
      "(76, 1, 1600, 2)\n",
      "(76, 1, 1600, 2)\n",
      "(76, 1, 1600, 2)\n",
      "(76, 1, 1600, 2)\n",
      "(76, 1, 1600, 2)\n",
      "(76, 1, 1600, 2)\n",
      "(76, 1, 1600, 2)\n",
      "(76, 1, 1600, 2)\n",
      "(76, 1, 1600, 2)\n"
     ]
    }
   ],
   "source": [
    "(target_known_label_x, target_known_label_y), (target_unknown_label_x, target_unknown_label_y) = separate_data_by_percentage(target_dict, 0.7)\n"
   ]
  },
  {
   "cell_type": "code",
   "execution_count": 72,
   "metadata": {},
   "outputs": [],
   "source": [
    "for labeled_target_percentage in [0.3, 0.5, 0.7]: \n",
    "    (target_known_label_x, target_known_label_y), (target_unknown_label_x, target_unknown_label_y) = separate_data_by_percentage(target_dict, labeled_target_percentage)\n",
    "    np.save(save_path+\"not_one_hot_%1.1f_%s_target_known_label_x.npy\"%(labeled_target_percentage, task), target_known_label_x)\n",
    "    np.save(save_path+\"not_one_hot_%1.1f_%s_target_known_label_y.npy\"%(labeled_target_percentage, task), target_known_label_y)\n",
    "    np.save(save_path+\"not_one_hot_%1.1f_%s_target_unknown_label_x.npy\"%(labeled_target_percentage, task), target_unknown_label_x)\n",
    "    np.save(save_path+\"not_one_hot_%1.1f_%s_target_unknown_label_y.npy\"%(labeled_target_percentage, task), target_unknown_label_y)\n"
   ]
  },
  {
   "cell_type": "code",
   "execution_count": 77,
   "metadata": {},
   "outputs": [
    {
     "data": {
      "text/plain": [
       "(4940, 1, 1600, 2)"
      ]
     },
     "execution_count": 77,
     "metadata": {},
     "output_type": "execute_result"
    }
   ],
   "source": [
    "target_known_label_x.shape"
   ]
  }
 ],
 "metadata": {
  "kernelspec": {
   "display_name": "Python 3",
   "language": "python",
   "name": "python3"
  },
  "language_info": {
   "codemirror_mode": {
    "name": "ipython",
    "version": 3
   },
   "file_extension": ".py",
   "mimetype": "text/x-python",
   "name": "python",
   "nbconvert_exporter": "python",
   "pygments_lexer": "ipython3",
   "version": "3.6.9"
  }
 },
 "nbformat": 4,
 "nbformat_minor": 2
}
