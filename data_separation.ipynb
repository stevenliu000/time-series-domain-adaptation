{
 "cells": [
  {
   "cell_type": "code",
   "execution_count": 1,
   "metadata": {},
   "outputs": [],
   "source": [
    "import numpy as np\n",
    "import random\n",
    "seed = 0\n",
    "data_path = \"/Users/stevenliu/time-series-adaption/time-series-domain-adaptation/data_unzip/\"\n",
    "save_path = \"/Users/stevenliu/time-series-adaption/time-series-domain-adaptation/data_unzip/\"\n",
    "task = '3E'\n",
    "file_name = \"processed_file_%s.pkl\"%task"
   ]
  },
  {
   "cell_type": "markdown",
   "metadata": {},
   "source": [
    "# Load data"
   ]
  },
  {
   "cell_type": "code",
   "execution_count": 2,
   "metadata": {},
   "outputs": [],
   "source": [
    "total_data = np.load(data_path+file_name, allow_pickle=True)\n",
    "source_all_x = total_data['tr_data']\n",
    "source_all_y = total_data['tr_lbl']\n",
    "target_all_x = total_data['te_data']\n",
    "target_all_y = total_data['te_lbl']"
   ]
  },
  {
   "cell_type": "markdown",
   "metadata": {},
   "source": [
    "# Not one hot encoding"
   ]
  },
  {
   "cell_type": "code",
   "execution_count": 3,
   "metadata": {},
   "outputs": [],
   "source": [
    "source_all_y_not_one_hot = np.argmax(source_all_y,axis=1)\n",
    "target_all_y_not_one_hot = np.argmax(target_all_y,axis=1)"
   ]
  },
  {
   "cell_type": "markdown",
   "metadata": {},
   "source": [
    "# Shuffle Data"
   ]
  },
  {
   "cell_type": "code",
   "execution_count": 4,
   "metadata": {},
   "outputs": [],
   "source": [
    "np.random.seed(seed)\n",
    "shuffled_indice_source = np.random.permutation(source_all_x.shape[0])\n",
    "np.random.seed(seed)\n",
    "shuffled_indice_target = np.random.permutation(target_all_x.shape[0])\n",
    "\n",
    "source_all_x_shuffled = source_all_x[shuffled_indice_source]\n",
    "source_all_y_shuffled = source_all_y_not_one_hot[shuffled_indice_source]\n",
    "target_all_x_shuffled = target_all_x[shuffled_indice_target]\n",
    "target_all_y_shuffled = target_all_y_not_one_hot[shuffled_indice_target]"
   ]
  },
  {
   "cell_type": "markdown",
   "metadata": {},
   "source": [
    "# Construct class dict"
   ]
  },
  {
   "cell_type": "code",
   "execution_count": 5,
   "metadata": {},
   "outputs": [],
   "source": [
    "def get_class_data_dict(data, lbl, num_class):\n",
    "    '''\n",
    "    construct a dict {label: data}\n",
    "    '''\n",
    "    lbl_not_one_hot = lbl\n",
    "    result = {i:[] for i in range(num_class)}\n",
    "    for label in result:\n",
    "        index = np.argwhere(lbl_not_one_hot==label)[:,0] # np.argwhere return (num_lbl_in_this_class, 1)\n",
    "        result[label] = data[index]\n",
    "\n",
    "    return result"
   ]
  },
  {
   "cell_type": "code",
   "execution_count": 6,
   "metadata": {},
   "outputs": [],
   "source": [
    "source_dict = get_class_data_dict(source_all_x_shuffled, source_all_y_shuffled, source_all_y.shape[1])\n",
    "target_dict = get_class_data_dict(target_all_x_shuffled, target_all_y_shuffled, target_all_y.shape[1])"
   ]
  },
  {
   "cell_type": "code",
   "execution_count": 7,
   "metadata": {},
   "outputs": [
    {
     "data": {
      "text/plain": [
       "(109, 1600, 2)"
      ]
     },
     "execution_count": 7,
     "metadata": {},
     "output_type": "execute_result"
    }
   ],
   "source": [
    "target_dict[0].shape"
   ]
  },
  {
   "cell_type": "markdown",
   "metadata": {},
   "source": [
    "# Separate Percentage"
   ]
  },
  {
   "cell_type": "code",
   "execution_count": 8,
   "metadata": {},
   "outputs": [],
   "source": [
    "def separate_data_by_percentage(data_dict, known_percentage):\n",
    "    unknown_label_x = []\n",
    "    unknown_label_y = []\n",
    "    known_label_x = []\n",
    "    known_label_y = []\n",
    "    for label, data in data_dict.items():\n",
    "        num_in_this_label = data.shape[0]\n",
    "        known_num_in_this_label = int(known_percentage * num_in_this_label)\n",
    "        unknown_num_in_this_label = num_in_this_label - known_num_in_this_label\n",
    "        np.random.seed(seed)\n",
    "        known_indices = np.random.choice(num_in_this_label, known_num_in_this_label, replace=False)\n",
    "        unknown_indices = np.delete(np.arange(0, num_in_this_label), known_indices)\n",
    "        \n",
    "        assert unknown_indices.shape[0]+known_indices.shape[0] == num_in_this_label\n",
    "        assert known_indices.shape[0] == known_num_in_this_label\n",
    "        assert unknown_indices.shape[0] == unknown_num_in_this_label\n",
    "        assert any(np.isin(unknown_indices,known_indices)) == False\n",
    "        \n",
    "        known_label_x.extend(data[known_indices])\n",
    "        unknown_label_x.extend(data[unknown_indices])\n",
    "        known_label_y.extend([label] * known_num_in_this_label)\n",
    "        unknown_label_y.extend([label] * unknown_num_in_this_label)\n",
    "        \n",
    "    return (np.array(known_label_x), np.array(known_label_y)), (np.array(unknown_label_x), np.array(unknown_label_y))\n",
    "        "
   ]
  },
  {
   "cell_type": "markdown",
   "metadata": {},
   "source": [
    "# Separate Percentage for target"
   ]
  },
  {
   "cell_type": "code",
   "execution_count": 16,
   "metadata": {},
   "outputs": [],
   "source": [
    "for labeled_target_percentage in [0.3, 0.5, 0.7]: \n",
    "    (target_known_label_x, target_known_label_y), (target_unknown_label_x, target_unknown_label_y) = separate_data_by_percentage(target_dict, labeled_target_percentage)\n",
    "    assert target_known_label_x.shape[0] + target_unknown_label_x.shape[0] == target_all_x_shuffled.shape[0]\n",
    "    assert target_unknown_label_x.shape[0] == target_unknown_label_y.shape[0]\n",
    "    assert target_known_label_x.shape[0] == target_known_label_y.shape[0]\n",
    "    assert target_all_x_shuffled.shape[0] == target_all_y_shuffled.shape[0]\n",
    "    np.save(save_path+\"processed_file_not_one_hot_%s_%1.1f_target_known_label_x.npy\"%(task, labeled_target_percentage), target_known_label_x)\n",
    "    np.save(save_path+\"processed_file_not_one_hot_%s_%1.1f_target_known_label_y.npy\"%(task, labeled_target_percentage), target_known_label_y)\n",
    "    np.save(save_path+\"processed_file_not_one_hot_%s_%1.1f_target_unknown_label_x.npy\"%(task, labeled_target_percentage), target_unknown_label_x)\n",
    "    np.save(save_path+\"processed_file_not_one_hot_%s_%1.1f_target_unknown_label_y.npy\"%(task, labeled_target_percentage), target_unknown_label_y)\n"
   ]
  },
  {
   "cell_type": "code",
   "execution_count": 9,
   "metadata": {},
   "outputs": [],
   "source": [
    "for labeled_source_percentage in [0.3, 0.5, 0.7]: \n",
    "    (source_known_label_x, source_known_label_y), (source_unknown_label_x, source_unknown_label_y) = separate_data_by_percentage(source_dict, labeled_source_percentage)\n",
    "    assert source_known_label_x.shape[0] + source_unknown_label_x.shape[0] == source_all_x_shuffled.shape[0]\n",
    "    assert source_unknown_label_x.shape[0] == source_unknown_label_y.shape[0]\n",
    "    assert source_known_label_x.shape[0] == source_known_label_y.shape[0]\n",
    "    assert source_all_x_shuffled.shape[0] == source_all_y_shuffled.shape[0]\n",
    "    np.save(save_path+\"processed_file_not_one_hot_%s_%1.1f_source_known_label_x.npy\"%(task, labeled_source_percentage), source_known_label_x)\n",
    "    np.save(save_path+\"processed_file_not_one_hot_%s_%1.1f_source_known_label_y.npy\"%(task, labeled_source_percentage), source_known_label_y)\n",
    "    np.save(save_path+\"processed_file_not_one_hot_%s_%1.1f_source_unknown_label_x.npy\"%(task, labeled_source_percentage), source_unknown_label_x)\n",
    "    np.save(save_path+\"processed_file_not_one_hot_%s_%1.1f_source_unknown_label_y.npy\"%(task, labeled_source_percentage), source_unknown_label_y)\n"
   ]
  },
  {
   "cell_type": "code",
   "execution_count": 10,
   "metadata": {},
   "outputs": [
    {
     "data": {
      "text/plain": [
       "0.7"
      ]
     },
     "execution_count": 10,
     "metadata": {},
     "output_type": "execute_result"
    }
   ],
   "source": [
    "labeled_source_percentage"
   ]
  },
  {
   "cell_type": "code",
   "execution_count": 17,
   "metadata": {},
   "outputs": [
    {
     "data": {
      "text/plain": [
       "4290"
      ]
     },
     "execution_count": 17,
     "metadata": {},
     "output_type": "execute_result"
    }
   ],
   "source": [
    "source_unknown_label_x.shape[0]"
   ]
  },
  {
   "cell_type": "code",
   "execution_count": 16,
   "metadata": {},
   "outputs": [
    {
     "data": {
      "text/plain": [
       "(4290, 1600, 2)"
      ]
     },
     "execution_count": 16,
     "metadata": {},
     "output_type": "execute_result"
    }
   ],
   "source": [
    "np.load(save_path+'processed_file_not_one_hot_%s_%1.1f_source_unknown_label_x.npy'%(task, labeled_source_percentage)).shape"
   ]
  }
 ],
 "metadata": {
  "kernelspec": {
   "display_name": "Python 3",
   "language": "python",
   "name": "python3"
  },
  "language_info": {
   "codemirror_mode": {
    "name": "ipython",
    "version": 3
   },
   "file_extension": ".py",
   "mimetype": "text/x-python",
   "name": "python",
   "nbconvert_exporter": "python",
   "pygments_lexer": "ipython3",
   "version": "3.6.10"
  }
 },
 "nbformat": 4,
 "nbformat_minor": 2
}
