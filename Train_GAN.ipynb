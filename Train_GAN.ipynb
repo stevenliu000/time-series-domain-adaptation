{
 "cells": [
  {
   "cell_type": "code",
   "execution_count": null,
   "metadata": {},
   "outputs": [],
   "source": [
    "def source_out(size):\n",
    "    '''\n",
    "    Tensor containing ones, with shape = size\n",
    "    '''\n",
    "    data = Variable(torch.ones(size, 1))\n",
    "    if torch.cuda.is_available(): return data.cuda()\n",
    "    return data\n",
    "\n",
    "def target_out(size):\n",
    "    '''\n",
    "    Tensor containing zeros, with shape = size\n",
    "    '''\n",
    "    data = Variable(torch.zeros(size, 1))\n",
    "    if torch.cuda.is_available(): return data.cuda()\n",
    "    return data"
   ]
  },
  {
   "cell_type": "code",
   "execution_count": null,
   "metadata": {},
   "outputs": [],
   "source": [
    "\n",
    "num_batches = len(data_loader)"
   ]
  },
  {
   "cell_type": "code",
   "execution_count": null,
   "metadata": {},
   "outputs": [],
   "source": [
    "# Discriminator and Generator\n",
    "discriminator_GAN = Discriminator()\n",
    "generator_GAN = Generator()\n",
    "if torch.cuda.is_available():\n",
    "    discriminator_GAN.cuda()\n",
    "    generator_GAN.cuda()"
   ]
  },
  {
   "cell_type": "code",
   "execution_count": null,
   "metadata": {},
   "outputs": [],
   "source": [
    "\n",
    "# Optimizers\n",
    "d_optimizer_GAN = optim.Adam(discriminator_GAN.parameters(), lr=0.0002)\n",
    "g_optimizer_GAN = optim.Adam(generator_GAN.parameters(), lr=0.0002)\n",
    "\n",
    "# Loss function\n",
    "loss = nn.BCELoss()\n",
    "\n",
    "# Number of steps to apply to the discriminator\n",
    "d_steps = 1  # In Goodfellow et. al 2014 this variable is assigned to 1\n",
    "# Number of epochs\n",
    "num_epochs = 200"
   ]
  },
  {
   "cell_type": "code",
   "execution_count": null,
   "metadata": {},
   "outputs": [],
   "source": [
    "def train_discriminator(optimizer, trans_source_data, trans_target_data):\n",
    "    # Reset gradients\n",
    "    optimizer.zero_grad()\n",
    "    \n",
    "    # 1.1 Train on source Data\n",
    "    prediction_source = discriminator_GAN(trans_source_data)\n",
    "    # Calculate error and backpropagate\n",
    "    error_source = loss(prediction_source, source_out(trans_source_data.size(0)))\n",
    "    error_source.backward()\n",
    "\n",
    "    # 1.2 Train on Fake Data\n",
    "    prediction_target = discriminator_GAN(trans_target_data)\n",
    "    # Calculate error and backpropagate\n",
    "    error_target = loss(prediction_target, target_out(trans_target_data.size(0)))\n",
    "    error_target.backward()\n",
    "    \n",
    "    # 1.3 Update weights with gradients\n",
    "    optimizer.step()\n",
    "    \n",
    "    # Return error\n",
    "    return error_source + error_target, prediction_source, prediction_target\n"
   ]
  },
  {
   "cell_type": "code",
   "execution_count": null,
   "metadata": {},
   "outputs": [],
   "source": [
    "def train_generator(optimizer, target_data):\n",
    "    # 2. Train Generator\n",
    "    # Reset gradients\n",
    "    optimizer.zero_grad()\n",
    "    # Sample noise and generate fake data\n",
    "    prediction = discriminator_GAN(fake_data)\n",
    "    # Calculate error and backpropagate\n",
    "    error = loss(prediction, source_out(prediction.size(0)))\n",
    "    error.backward()\n",
    "    # Update weights with gradients\n",
    "    optimizer.step()\n",
    "    # Return error\n",
    "    return error"
   ]
  },
  {
   "cell_type": "code",
   "execution_count": null,
   "metadata": {},
   "outputs": [],
   "source": [
    "logger = Logger(model_name='Time-Series-GAN', data_name='Time-Series-Data')\n",
    "\n",
    "for epoch in range(num_epochs):\n",
    "    for n_batch, (real_batch,_) in enumerate(data_loader):\n",
    "\n",
    "        # 1. Train Discriminator\n",
    "        trans_source_data = Variable(images_to_vectors(real_batch)) ### ? get from the previous transformer\n",
    "        if torch.cuda.is_available(): real_data = real_data.cuda()\n",
    "        # Generate fake data\n",
    "        trans_target_data = generator_GAN().detach() ## ? from generator get trans_target_data\n",
    "        # Train D\n",
    "        d_error, d_pred_source, d_pred_target = train_discriminator(d_optimizer_GAN,\n",
    "                                                                trans_source_data, trans_target_data)\n",
    "\n",
    "        # 2. Train Generator\n",
    "        # Generate fake data\n",
    "        target_data = generator_GAN(??) # get data from generator transformer\n",
    "        # Train G\n",
    "        g_error = train_generator(g_optimizer_GAN, trans_target_data)\n",
    "        # Log error\n",
    "        logger.log(d_error, g_error, epoch, n_batch, num_batches)\n",
    "\n",
    "        # Display Progress\n",
    "        if (n_batch) % 100 == 0:\n",
    "            display.clear_output(True)\n",
    "            # Display Images\n",
    "            # test_images = vectors_to_images(generator(test_noise)).data.cpu()\n",
    "            # logger.log_images(test_images, num_test_samples, epoch, n_batch, num_batches);\n",
    "            # Display status Logs\n",
    "            logger.display_status(\n",
    "                epoch, num_epochs, n_batch, num_batches,\n",
    "                d_error, g_error, d_pred_source, d_pred_target\n",
    "            )\n",
    "        # Model Checkpoints\n",
    "        logger.save_models(generator_GAN, discriminator_GAN, epoch)"
   ]
  }
 ],
 "metadata": {
  "kernelspec": {
   "display_name": "Python 3",
   "language": "python",
   "name": "python3"
  },
  "language_info": {
   "codemirror_mode": {
    "name": "ipython",
    "version": 3
   },
   "file_extension": ".py",
   "mimetype": "text/x-python",
   "name": "python",
   "nbconvert_exporter": "python",
   "pygments_lexer": "ipython3",
   "version": "3.6.5"
  }
 },
 "nbformat": 4,
 "nbformat_minor": 2
}
