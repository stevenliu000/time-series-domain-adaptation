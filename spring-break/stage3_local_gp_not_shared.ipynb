{
 "cells": [
  {
   "cell_type": "code",
   "execution_count": 16,
   "metadata": {},
   "outputs": [],
   "source": [
    "import sys, os, inspect\n",
    "current_dir = os.path.dirname(os.path.abspath(inspect.getfile(inspect.currentframe())))\n",
    "parent_dir = os.path.dirname(current_dir)\n",
    "sys.path.insert(0, parent_dir)"
   ]
  },
  {
   "cell_type": "code",
   "execution_count": 22,
   "metadata": {},
   "outputs": [],
   "source": [
    "import numpy as np\n",
    "import random\n",
    "import copy\n",
    "import math\n",
    "from tqdm import tqdm\n",
    "import torch\n",
    "from torch import nn\n",
    "from torch.utils.data import Dataset, DataLoader\n",
    "from torch.optim.lr_scheduler import ReduceLROnPlateau\n",
    "import torch.nn.functional as F\n",
    "import torch.backends.cudnn as cudnn\n",
    "from martins.complex_transformer import ComplexTransformer\n",
    "from FNN import FNN\n",
    "from GAN import Generator, Discriminator\n",
    "from data_utils import *\n",
    "import argparse\n",
    "import logging\n",
    "import logging.handlers\n",
    "import pickle\n",
    "from torch.autograd import Variable\n",
    "from torch.autograd import grad as torch_grad"
   ]
  },
  {
   "cell_type": "markdown",
   "metadata": {},
   "source": [
    "# DataLoader"
   ]
  },
  {
   "cell_type": "code",
   "execution_count": 3,
   "metadata": {},
   "outputs": [],
   "source": [
    "class JoinDataset(Dataset):\n",
    "    def __init__(self, source_x, source_y, target_x, target_y, random=False):\n",
    "        self.source_x = source_x\n",
    "        self.source_y = source_y\n",
    "        self.target_x = target_x\n",
    "        self.target_y = target_y\n",
    "        \n",
    "        self.source_len = self.source_y.shape[0]\n",
    "        self.target_len = self.target_y.shape[0]\n",
    "    \n",
    "        self.random = random\n",
    "    def __len__(self):\n",
    "        return self.target_len\n",
    "    \n",
    "    def __getitem__(self, index):\n",
    "        if self.random:\n",
    "            index_source = random.randrange(source_len)\n",
    "            index_target = random.randrange(target_len)\n",
    "        else:\n",
    "            index_source = index\n",
    "            index_target = index\n",
    "\n",
    "        return (self.source_x[index_source], self.source_y[index_source]), (self.target_x[index_target], self.target_y[index_target])\n",
    "    \n",
    "    \n",
    "class SingleDataset(Dataset):\n",
    "    def __init__(self, x, y):\n",
    "            self.x = x\n",
    "            self.y = y\n",
    "            self.len = self.y.shape[0]\n",
    "    \n",
    "    def __len__(self):\n",
    "        return self.len\n",
    "    \n",
    "    def __getitem__(self, index):\n",
    "        return self.x[index], self.y[index]\n"
   ]
  },
  {
   "cell_type": "markdown",
   "metadata": {},
   "source": [
    "# Parser"
   ]
  },
  {
   "cell_type": "code",
   "execution_count": 4,
   "metadata": {
    "scrolled": true
   },
   "outputs": [
    {
     "name": "stderr",
     "output_type": "stream",
     "text": [
      "usage: ipykernel_launcher.py [-h] [--data_path DATA_PATH] [--task TASK]\n",
      "                             [--batch_size BATCH_SIZE] [--epochs EPOCHS]\n",
      "                             [--lr_gan LR_GAN] [--lr_clf LR_CLF] [--gap GAP]\n",
      "                             [--lbl_percentage LBL_PERCENTAGE]\n",
      "                             [--num_per_class NUM_PER_CLASS] [--seed SEED]\n",
      "                             [--classifier CLASSIFIER] [--save_path SAVE_PATH]\n",
      "                             [--model_save_period MODEL_SAVE_PERIOD]\n",
      "ipykernel_launcher.py: error: unrecognized arguments: -f /Users/stevenliu/Library/Jupyter/runtime/kernel-59462722-2028-457e-8e13-a96282293391.json\n"
     ]
    },
    {
     "ename": "SystemExit",
     "evalue": "2",
     "output_type": "error",
     "traceback": [
      "An exception has occurred, use %tb to see the full traceback.\n",
      "\u001b[0;31mSystemExit\u001b[0m\u001b[0;31m:\u001b[0m 2\n"
     ]
    },
    {
     "name": "stderr",
     "output_type": "stream",
     "text": [
      "/Users/stevenliu/anaconda3/envs/torch_p36/lib/python3.6/site-packages/IPython/core/interactiveshell.py:3334: UserWarning: To exit: use 'exit', 'quit', or Ctrl-D.\n",
      "  warn(\"To exit: use 'exit', 'quit', or Ctrl-D.\", stacklevel=1)\n"
     ]
    }
   ],
   "source": [
    "# Parameters\n",
    "parser = argparse.ArgumentParser(description='JDA Time series adaptation')\n",
    "parser.add_argument(\"--data_path\", type=str, default=\"/projects/rsalakhugroup/complex/domain_adaptation\", help=\"dataset path\")\n",
    "parser.add_argument(\"--task\", type=str, help='3A or 3E')\n",
    "parser.add_argument('--batch_size', type=int, default=256, help='batch size')\n",
    "parser.add_argument('--epochs', type=int, default=50, help='number of epochs')\n",
    "parser.add_argument('--lr_gan', type=float, default=1e-3, help='learning rate for adversarial')\n",
    "parser.add_argument('--lr_FNN', type=float, default=1e-3, help='learning rate for classification')\n",
    "parser.add_argument('--lr_encoder', type=float, default=1e-3, help='learning rate for classification')\n",
    "parser.add_argument('--n_critic', type=float, default=0.16, help='gap: Generator train GAP times, discriminator train once')\n",
    "parser.add_argument('--lbl_percentage', type=float, default=0.2, help='percentage of which target data has label')\n",
    "parser.add_argument('--num_per_class', type=int, default=-1, help='number of sample per class when training local discriminator')\n",
    "parser.add_argument('--seed', type=int, help='manual seed')\n",
    "parser.add_argument('--save_path', type=str, help='where to store data')\n",
    "parser.add_argument('--model_save_period', type=int, default=2, help='period in which the model is saved')\n",
    "parser.add_argument('--gpweight', type=float, default=10, help='clip_value for WGAN')\n",
    "parser.add_argument('--sclass', type=float, default=0.7, help='source domain classification weight on loss function')\n",
    "parser.add_argument('--dlocal', type=float, default=0.01, help='local GAN weight on loss function')\n",
    "parser.add_argument('--GANweights', type=int, default=-1, help='pretrained GAN weight')\n",
    "\n",
    "\n",
    "args = parser.parse_args()\n",
    "device = torch.device('cuda:0' if torch.cuda.is_available() else 'cpu')\n",
    "\n",
    "# seed\n",
    "if args.seed is None:\n",
    "    args.seed = random.randint(1, 10000)\n",
    "torch.manual_seed(args.seed)\n",
    "torch.cuda.manual_seed(args.seed)\n",
    "np.random.seed(args.seed)\n",
    "cudnn.deterministic = True\n",
    "torch.backends.cudnn.deterministic = True\n",
    "\n",
    "\n",
    "args.task = '3Av2' if args.task == '3A' else '3E'\n",
    "num_class = 50 if args.task == \"3Av2\" else 65\n",
    "device = torch.device('cuda:0' if torch.cuda.is_available() else 'cpu')\n",
    "\n",
    "if args.num_per_class == -1:\n",
    "    args.num_per_class = math.ceil(args.batch_size / num_class)\n",
    "    \n",
    "model_sub_folder = '/stage3_local_gp_not_shared/task_%s_gpweight_%f_dlocal_%f_critic_%f_sclass_%f'%(args.task, args.gpweight, args.dlocal, args.n_critic, args.sclass)\n",
    "\n",
    "if not os.path.exists(args.save_path+model_sub_folder):\n",
    "    os.makedirs(args.save_path+model_sub_folder)\n"
   ]
  },
  {
   "cell_type": "code",
   "execution_count": 4,
   "metadata": {},
   "outputs": [],
   "source": [
    "# # local only\n",
    "# class local_args:\n",
    "#     def __init__(self, **entries):\n",
    "#         self.__dict__.update(entries)\n",
    "        \n",
    "# args = local_args(**{\n",
    "#     'data_path': '/Users/stevenliu/time-series-adaption/time-series-domain-adaptation/data_unzip',\n",
    "#     'task': '3E',\n",
    "#     'num_class': 50,\n",
    "#     'batch_size': 100,\n",
    "#     'num_per_class': -1,\n",
    "#     'gap': 5,\n",
    "#     'lbl_percentage':0.2,\n",
    "#     'lr_gan': 1e-4,\n",
    "#     'lr_FNN': 1e-4,\n",
    "#     'lr_encoder': 1e-4,\n",
    "#     'epochs': 2,\n",
    "#     'clip_value': 0.01,\n",
    "#     'n_critic': 4\n",
    "# })"
   ]
  },
  {
   "cell_type": "code",
   "execution_count": 5,
   "metadata": {},
   "outputs": [],
   "source": [
    "# args.task = '3Av2' if args.task == '3A' else '3E'\n",
    "# num_class = 50 if args.task == \"3Av2\" else 65\n",
    "# device = torch.device('cuda:0' if torch.cuda.is_available() else 'cpu')\n",
    "\n",
    "# if args.num_per_class == -1:\n",
    "#     args.num_per_class = math.ceil(args.batch_size / num_class)\n",
    "    \n",
    "# model_sub_folder = '/task_%s_gap_%s_lblPer_%i_numPerClass_%i'%(args.task, args.gap, args.lbl_percentage, args.num_per_class)\n",
    "    "
   ]
  },
  {
   "cell_type": "markdown",
   "metadata": {},
   "source": [
    "# Logger"
   ]
  },
  {
   "cell_type": "code",
   "execution_count": 6,
   "metadata": {},
   "outputs": [],
   "source": [
    "logger = logging.getLogger()\n",
    "logger.setLevel(logging.INFO)\n",
    "\n",
    "if os.path.isfile(args.save_path+model_sub_folder+ '/logfile.log'):\n",
    "    os.remove(args.save_path+model_sub_folder+ '/logfile.log')\n",
    "\n",
    "file_log_handler = logging.FileHandler(args.save_path+model_sub_folder+ '/logfile.log')\n",
    "logger.addHandler(file_log_handler)\n",
    "\n",
    "stdout_log_handler = logging.StreamHandler(sys.stdout)\n",
    "logger.addHandler(stdout_log_handler)\n"
   ]
  },
  {
   "cell_type": "markdown",
   "metadata": {},
   "source": [
    "# Data loading"
   ]
  },
  {
   "cell_type": "code",
   "execution_count": 7,
   "metadata": {},
   "outputs": [],
   "source": [
    "raw_data = np.load(args.data_path+'/processed_file_not_one_hot_%s.pkl'%args.task, allow_pickle=True)"
   ]
  },
  {
   "cell_type": "code",
   "execution_count": 8,
   "metadata": {},
   "outputs": [],
   "source": [
    "target_dict, (target_unlabel_x, target_unlabel_y),(target_label_x,target_label_y), target_len  = get_target_dict(args.data_path+'/processed_file_not_one_hot_%s.pkl'%args.task, num_class, args.lbl_percentage)\n",
    "source_dict, source_len = get_source_dict(args.data_path+'/processed_file_not_one_hot_%s.pkl'%args.task, num_class, data_len=target_len)\n"
   ]
  },
  {
   "cell_type": "code",
   "execution_count": 9,
   "metadata": {},
   "outputs": [],
   "source": [
    "join_dataset = JoinDataset(raw_data['tr_data'],raw_data['tr_lbl'],raw_data['te_data'],raw_data['te_lbl'], random=True)\n",
    "join_dataloader = DataLoader(join_dataset, batch_size=args.batch_size, shuffle=True, pin_memory=True, num_workers=4)\n",
    "\n",
    "source_dataset = SingleDataset(raw_data['tr_data'], raw_data['tr_lbl'])\n",
    "source_dataloader = DataLoader(source_dataset, batch_size=args.batch_size, shuffle=True, pin_memory=True, num_workers=4)\n",
    "target_lbl_dataset = SingleDataset(target_label_x, target_label_y)\n",
    "target_dataloader = DataLoader(target_lbl_dataset, batch_size=args.batch_size, shuffle=True, pin_memory=True, num_workers=4)\n"
   ]
  },
  {
   "cell_type": "markdown",
   "metadata": {},
   "source": [
    "# weight Initialize"
   ]
  },
  {
   "cell_type": "code",
   "execution_count": 15,
   "metadata": {},
   "outputs": [],
   "source": [
    "def weights_init(m):\n",
    "    if type(m) == nn.Linear:\n",
    "        torch.nn.init.xavier_uniform_(m.weight)\n",
    "    elif type(m) == nn.LayerNorm:\n",
    "        torch.nn.init.normal_(m.weight, 1.0, 0.02)\n",
    "        torch.nn.init.constant_(m.bias, 0)\n"
   ]
  },
  {
   "cell_type": "markdown",
   "metadata": {},
   "source": [
    "# model creation"
   ]
  },
  {
   "cell_type": "code",
   "execution_count": 11,
   "metadata": {},
   "outputs": [],
   "source": [
    "device = torch.device('cuda:0' if torch.cuda.is_available() else 'cpu')\n",
    "\n",
    "seq_len = 10\n",
    "feature_dim = 160\n",
    "encoder_source = ComplexTransformer(layers=3,\n",
    "                               time_step=seq_len,\n",
    "                               input_dim=feature_dim,\n",
    "                               hidden_size=64,\n",
    "                               output_dim=64,\n",
    "                               num_heads=8,\n",
    "                               out_dropout=0.2,\n",
    "                               leaky_slope=0.2)\n",
    "encoder_source.to(device)\n",
    "\n",
    "\n",
    "encoder_target = ComplexTransformer(layers=3,\n",
    "                               time_step=seq_len,\n",
    "                               input_dim=feature_dim,\n",
    "                               hidden_size=64,\n",
    "                               output_dim=64,\n",
    "                               num_heads=8,\n",
    "                               out_dropout=0.2,\n",
    "                               leaky_slope=0.2)\n",
    "encoder_target.to(device)\n",
    "\n",
    "CNet = FNN(d_in=64 * 2 * 1, d_h1=500, d_h2=500, d_out=num_class, dp=0.2)\n",
    "CNet.to(device)\n",
    "\n",
    "DNet_global = Discriminator(feature_dim=64*2, d_out=1).to(device)\n",
    "DNet_local = Discriminator(feature_dim=64*2, d_out=num_class).to(device)\n",
    "GNet = Generator(dim=64*2).to(device)\n",
    "DNet_global.apply(weights_init)\n",
    "DNet_local.apply(weights_init)\n",
    "GNet.apply(weights_init)\n",
    "encoder_source.apply(weights_init)\n",
    "encoder_target.apply(weights_init)\n",
    "CNet.apply(weights_init)\n",
    "optimizerD_global = torch.optim.Adam(DNet_global.parameters(), lr=args.lr_gan)\n",
    "optimizerD_local = torch.optim.Adam(DNet_local.parameters(), lr=args.lr_gan)\n",
    "optimizerG = torch.optim.Adam(GNet.parameters(), lr=args.lr_gan)\n",
    "optimizerFNN = torch.optim.Adam(CNet.parameters(), lr=args.lr_FNN)\n",
    "optimizerEncoderSource = torch.optim.Adam(encoder_source.parameters(), lr=args.lr_encoder)\n",
    "optimizerEncoderTarget = torch.optim.Adam(encoder_target.parameters(), lr=args.lr_encoder)\n",
    "criterion_classifier = nn.CrossEntropyLoss().to(device)\n"
   ]
  },
  {
   "cell_type": "code",
   "execution_count": 12,
   "metadata": {},
   "outputs": [],
   "source": [
    "def classifier_inference(encoder, CNet, x):\n",
    "    CNet.eval()\n",
    "    encoder.eval()\n",
    "    with torch.no_grad():\n",
    "        embedding = encoder_inference(encoder, x)\n",
    "        pred = CNet(embedding)\n",
    "    return pred"
   ]
  },
  {
   "cell_type": "code",
   "execution_count": 13,
   "metadata": {},
   "outputs": [],
   "source": [
    "def encoder_inference(encoder, x):\n",
    "    real = x[:,:,0].reshape(x.size(0), seq_len, feature_dim).float()\n",
    "    imag = x[:,:,1].reshape(x.size(0), seq_len, feature_dim).float()\n",
    "    real, imag = encoder(real, imag)\n",
    "    return torch.cat((real[:,-1,:], imag[:,-1,:]), -1).reshape(x.shape[0], -1)"
   ]
  },
  {
   "cell_type": "code",
   "execution_count": null,
   "metadata": {},
   "outputs": [],
   "source": [
    "def _gradient_penalty(real_data, generated_data, DNet, mask, num_class, device, args):\n",
    "    batch_size = real_data.size()[0]\n",
    "\n",
    "    # Calculate interpolation\n",
    "    alpha = torch.rand(batch_size, 1)\n",
    "    alpha = alpha.expand_as(real_data)\n",
    "    alpha = alpha.to(device)\n",
    "    interpolated = alpha * real_data.data + (1 - alpha) * generated_data.data\n",
    "    interpolated = Variable(interpolated, requires_grad=True)\n",
    "    interpolated = interpolated.to(device)\n",
    "\n",
    "    # Calculate probability of interpolated examples\n",
    "    prob_interpolated = DNet(interpolated, mask)\n",
    "\n",
    "    # Calculate gradients of probabilities with respect to examples\n",
    "    gradients = torch_grad(outputs=prob_interpolated, inputs=interpolated,\n",
    "                           grad_outputs=torch.ones(prob_interpolated.size()).to(device),\n",
    "                           create_graph=True, retain_graph=True)[0]\n",
    "\n",
    "    # Gradients have shape (batch_size, num_channels, img_width, img_height),\n",
    "    # so flatten to easily take norm per example in batch\n",
    "    gradients = gradients.view(batch_size, -1)\n",
    "\n",
    "    # Derivatives of the gradient close to 0 can cause problems because of\n",
    "    # the square root, so manually calculate norm and add epsilon\n",
    "    gradients_norm = torch.sqrt(torch.sum(gradients ** 2, dim=1, keepdim=True) + 1e-12)\n",
    "\n",
    "    gradients_norm = gradients_norm * mask\n",
    "    # Return gradient penalty\n",
    "    return args.gpweight * ((gradients_norm - 1) ** 2).mean(dim=0)\n"
   ]
  },
  {
   "cell_type": "markdown",
   "metadata": {},
   "source": [
    "# Train"
   ]
  },
  {
   "cell_type": "code",
   "execution_count": 14,
   "metadata": {
    "scrolled": true
   },
   "outputs": [
    {
     "name": "stderr",
     "output_type": "stream",
     "text": [
      "100%|██████████| 142/142 [00:25<00:00,  5.59it/s]\n",
      "100%|██████████| 14/14 [00:04<00:00,  3.33it/s]"
     ]
    },
    {
     "name": "stdout",
     "output_type": "stream",
     "text": [
      "Epoch: 1, update classifier: source acc: 0.017713; target acc: 0.014652\n"
     ]
    },
    {
     "name": "stderr",
     "output_type": "stream",
     "text": [
      "\n"
     ]
    },
    {
     "name": "stdout",
     "output_type": "stream",
     "text": [
      "Epoch: 1, assigned pesudo label with accuracy 0.017995\n"
     ]
    },
    {
     "name": "stderr",
     "output_type": "stream",
     "text": [
      "100%|██████████| 71/71 [00:34<00:00,  2.04it/s]"
     ]
    },
    {
     "name": "stdout",
     "output_type": "stream",
     "text": [
      "Epoch: 1, Global Discrimator Updates: Loss D_global: -1.666919, Loss G: 0.402218\n"
     ]
    },
    {
     "name": "stderr",
     "output_type": "stream",
     "text": [
      "\n",
      "100%|██████████| 71/71 [00:39<00:00,  1.79it/s]"
     ]
    },
    {
     "name": "stdout",
     "output_type": "stream",
     "text": [
      "Epoch: 1, Local Discrimator Updates: Loss D_global: -23.045028, Loss G: 2.741944\n"
     ]
    },
    {
     "name": "stderr",
     "output_type": "stream",
     "text": [
      "\n",
      "100%|██████████| 142/142 [00:25<00:00,  5.61it/s]\n",
      "100%|██████████| 14/14 [00:04<00:00,  3.27it/s]"
     ]
    },
    {
     "name": "stdout",
     "output_type": "stream",
     "text": [
      "Epoch: 2, update classifier: source acc: 0.023641; target acc: 0.011722\n"
     ]
    },
    {
     "name": "stderr",
     "output_type": "stream",
     "text": [
      "\n"
     ]
    },
    {
     "name": "stdout",
     "output_type": "stream",
     "text": [
      "Epoch: 2, assigned pesudo label with accuracy 0.022253\n"
     ]
    },
    {
     "name": "stderr",
     "output_type": "stream",
     "text": [
      "100%|██████████| 71/71 [00:34<00:00,  2.06it/s]"
     ]
    },
    {
     "name": "stdout",
     "output_type": "stream",
     "text": [
      "Epoch: 2, Global Discrimator Updates: Loss D_global: -11.596006, Loss G: 1.630733\n"
     ]
    },
    {
     "name": "stderr",
     "output_type": "stream",
     "text": [
      "\n",
      "100%|██████████| 71/71 [00:40<00:00,  1.76it/s]"
     ]
    },
    {
     "name": "stdout",
     "output_type": "stream",
     "text": [
      "Epoch: 2, Local Discrimator Updates: Loss D_global: -210.188901, Loss G: 25.319705\n"
     ]
    },
    {
     "name": "stderr",
     "output_type": "stream",
     "text": [
      "\n"
     ]
    }
   ],
   "source": [
    "target_acc_label_ = []\n",
    "source_acc_ = []\n",
    "target_acc_unlabel_ = []\n",
    "error_D_global = []\n",
    "error_G_global = []\n",
    "error_D_local = []\n",
    "error_G_local = []\n",
    "\n",
    "\n",
    "# pre-trained\n",
    "# pre-trained\n",
    "model_PATH = '../train_related/spring_break/stage2_not_shared/task_3E_SClassWeight_0.700000'\n",
    "CNet.load_state_dict(torch.load(model_PATH+'/CNet_351.t7', map_location=device))\n",
    "encoder_source.load_state_dict(torch.load(model_PATH+'/encoder__source_351.t7', map_location=device))\n",
    "encoder_target.load_state_dict(torch.load(model_PATH+'/encoder__target_351.t7', map_location=device))\n",
    "GNet.load_state_dict(torch.load(model_PATH+'/GNet_351.t7', map_location=device))\n",
    "print('Model Loaded!')\n",
    "\n",
    "if args.GANweights !='-1':\n",
    "    GAN_PATH = '../train_related/spring_break/stage3_local_gp_no_class_not_shared/task_3E_gpweight_20.000000_dlocal_0.010000_critic_0.160000_sclass_0.700000'\n",
    "    GNet.load_state_dict(torch.load(GAN_PATH+'/GNet_%i.t7'%args.GANweights, map_location=device))\n",
    "    DNet_local.load_state_dict(torch.load(GAN_PATH+'/DNet_local_%i.t7'%args.GANweights, map_location=device))\n",
    "'''\n",
    "print('Started Pre training')\n",
    "for epoch in range(30):\n",
    "    # update classifier\n",
    "    # on source domain\n",
    "    CNet.train()\n",
    "    encoder.train()\n",
    "    GNet.train()\n",
    "    source_acc = 0.0\n",
    "    num_datas = 0.0\n",
    "    for batch_id, (source_x, source_y) in tqdm(enumerate(source_dataloader), total=len(source_dataloader)):\n",
    "        optimizerFNN.zero_grad()\n",
    "        optimizerEncoder.zero_grad()\n",
    "        source_x = source_x.to(device).float()\n",
    "        source_y = source_y.to(device)\n",
    "        num_datas += source_x.size(0)\n",
    "        source_x_embedding = encoder_inference(encoder, source_x)\n",
    "        pred = CNet(source_x_embedding)\n",
    "        source_acc += (pred.argmax(-1) == source_y).sum().item()\n",
    "        loss = criterion_classifier(pred, source_y)*0.5\n",
    "        loss.backward()\n",
    "        optimizerFNN.step()\n",
    "        optimizerEncoder.step()\n",
    "        \n",
    "    source_acc = source_acc / num_datas\n",
    "    source_acc_.append(source_acc)\n",
    "    \n",
    "    \n",
    "    # on target domain\n",
    "    target_acc = 0.0\n",
    "    num_datas = 0.0\n",
    "    CNet.train()\n",
    "    encoder.train()\n",
    "    GNet.train()\n",
    "    for batch_id, (target_x, target_y) in tqdm(enumerate(target_dataloader), total=len(target_dataloader)):\n",
    "        optimizerFNN.zero_grad()\n",
    "        optimizerG.zero_grad()\n",
    "        optimizerEncoder.zero_grad()\n",
    "        target_x = target_x.to(device).float()\n",
    "        target_y = target_y.to(device)\n",
    "        num_datas += target_x.size(0)\n",
    "        target_x_embedding = encoder_inference(encoder, target_x)\n",
    "        fake_source_embedding = GNet(target_x_embedding)\n",
    "        pred = CNet(fake_source_embedding)\n",
    "        target_acc += (pred.argmax(-1) == target_y).sum().item()\n",
    "        loss = criterion_classifier(pred, target_y)\n",
    "        loss.backward()\n",
    "        optimizerFNN.step()\n",
    "        optimizerG.step()\n",
    "        optimizerEncoder.step()\n",
    "    \n",
    "    target_acc = target_acc / num_datas\n",
    "    target_acc_label_.append(target_acc)\n",
    "    \n",
    "    correct_target = 0.0\n",
    "    num_datas = 0.0\n",
    "    CNet.eval()\n",
    "    encoder.eval()\n",
    "    GNet.eval()\n",
    "    for batch in range(math.ceil(target_unlabel_x.shape[0]/args.batch_size)):\n",
    "        target_unlabel_x_batch = torch.Tensor(target_unlabel_x[batch*args.batch_size:(batch+1)*args.batch_size]).to(device).float()\n",
    "        target_unlabel_y_batch = torch.Tensor(target_unlabel_y[batch*args.batch_size:(batch+1)*args.batch_size]).to(device)\n",
    "        num_datas += target_unlabel_x_batch.shape[0]\n",
    "        target_unlabel_x_embedding = encoder_inference(encoder, target_unlabel_x_batch)\n",
    "        fake_source_embedding = GNet(target_unlabel_x_embedding)\n",
    "        pred = CNet(fake_source_embedding)\n",
    "        correct_target += (pred.argmax(-1) == target_unlabel_y_batch).sum().item()\n",
    "        \n",
    "    target_unlabel_acc = correct_target/num_datas\n",
    "    print('Epoch: %i, update classifier: source acc: %f; target labled acc: %f; target unlabeled acc: %f'%(epoch+1, source_acc, target_acc, target_unlabel_acc))\n",
    "    \n",
    "torch.save(GNet.state_dict(), args.save_path+model_sub_folder+ '/GNet_pre_trained.t7')\n",
    "torch.save(encoder.state_dict(), args.save_path+model_sub_folder+ '/encoder_pre_trained.t7')\n",
    "torch.save(CNet.state_dict(), args.save_path+model_sub_folder+ '/CNet_pre_trained.t7')\n",
    "logger.info('Pre-train: source acc: %f; target labled acc: %f; target unlabeled acc: %f'%(source_acc, target_acc, target_unlabel_acc))\n",
    "'''\n",
    "logger.info('Started Training')\n",
    "for epoch in range(args.epochs):\n",
    "    # update classifier\n",
    "    # on source domain\n",
    "    CNet.train()\n",
    "    encoder_source.eval()\n",
    "    encoder_target.eval()\n",
    "    GNet.eval()\n",
    "    source_acc = 0.0\n",
    "    num_datas = 0.0\n",
    "    for batch_id, (source_x, source_y) in tqdm(enumerate(source_dataloader), total=len(source_dataloader)):\n",
    "        optimizerFNN.zero_grad()\n",
    "        optimizerEncoderSource.zero_grad()\n",
    "        source_x = source_x.to(device).float()\n",
    "        source_y = source_y.to(device)\n",
    "        num_datas += source_x.size(0)\n",
    "        source_x_embedding = encoder_inference(encoder_source, source_x)\n",
    "        pred = CNet(source_x_embedding)\n",
    "        source_acc += (pred.argmax(-1) == source_y).sum().item()\n",
    "        loss = criterion_classifier(pred, source_y) * args.sclass\n",
    "        loss.backward()\n",
    "        optimizerFNN.step()\n",
    "#         optimizerEncoder.step()\n",
    "        \n",
    "    source_acc = source_acc / num_datas\n",
    "    source_acc_.append(source_acc)\n",
    "    \n",
    "    # on target domain\n",
    "    target_acc = 0.0\n",
    "    num_datas = 0.0\n",
    "    CNet.train()\n",
    "    encoder_source.eval()\n",
    "    encoder_target.eval()\n",
    "    GNet.eval()\n",
    "    for batch_id, (target_x, target_y) in tqdm(enumerate(target_dataloader), total=len(target_dataloader)):\n",
    "        optimizerFNN.zero_grad()\n",
    "        optimizerG.zero_grad()\n",
    "        optimizerEncoderTarget.zero_grad()\n",
    "        target_x = target_x.to(device).float()\n",
    "        target_y = target_y.to(device)\n",
    "        num_datas += target_x.size(0)\n",
    "        target_x_embedding = encoder_inference(encoder_target, target_x)\n",
    "        fake_source_embedding = GNet(target_x_embedding)\n",
    "        pred = CNet(fake_source_embedding)\n",
    "        target_acc += (pred.argmax(-1) == target_y).sum().item()\n",
    "        loss = criterion_classifier(pred, target_y)\n",
    "        loss.backward()\n",
    "        optimizerFNN.step()\n",
    "#         optimizerG.step()\n",
    "#         optimizerEncoder.step()\n",
    "    \n",
    "    target_acc = target_acc / num_datas\n",
    "    target_acc_label_.append(target_acc)\n",
    "    \n",
    "    logger.info('Epoch: %i, update classifier: source acc: %f; target acc: %f'%(epoch+1, source_acc, target_acc))\n",
    "    # Assign Pesudo Label\n",
    "    correct_target = 0.0\n",
    "    target_pesudo_y = []\n",
    "    CNet.eval()\n",
    "    encoder_source.eval()\n",
    "    encoder_target.eval()\n",
    "    GNet.eval()\n",
    "    for batch in range(math.ceil(target_unlabel_x.shape[0]/args.batch_size)):\n",
    "        target_unlabel_x_batch = torch.Tensor(target_unlabel_x[batch*args.batch_size:(batch+1)*args.batch_size]).to(device).float()\n",
    "        target_unlabel_y_batch = torch.Tensor(target_unlabel_y[batch*args.batch_size:(batch+1)*args.batch_size]).to(device)        \n",
    "        target_unlabel_x_embedding = encoder_inference(encoder_target, target_unlabel_x_batch)\n",
    "        fake_source_embedding = GNet(target_unlabel_x_embedding)\n",
    "        pred = CNet(fake_source_embedding)\n",
    "        correct_target += (pred.argmax(-1) == target_unlabel_y_batch).sum().item()\n",
    "        target_pesudo_y.extend(pred.argmax(-1).cpu().numpy())\n",
    "        \n",
    "    target_pesudo_y = np.array(target_pesudo_y)\n",
    "    pesudo_dict = get_class_data_dict(target_unlabel_x, target_pesudo_y, num_class)\n",
    "\n",
    "    logger.info('Epoch: %i, assigned pesudo label with accuracy %f'%(epoch+1, correct_target/(target_unlabel_x.shape[0])))\n",
    "    target_acc_unlabel_.append(correct_target/(target_unlabel_x.shape[0]))\n",
    "    \n",
    "    '''\n",
    "    # Update GAN\n",
    "    # Update global Discriminator\n",
    "    CNet.train()\n",
    "    encoder.train()\n",
    "    GNet.train()\n",
    "    DNet_local.train()\n",
    "    DNet_global.train()\n",
    "    total_error_D_global = 0\n",
    "    total_error_G = 0\n",
    "    for batch_id, ((source_x, source_y), (target_x, target_y)) in tqdm(enumerate(join_dataloader), total=len(join_dataloader)):\n",
    "        \"\"\"Update D Net\"\"\"\n",
    "        optimizerD_global.zero_grad()\n",
    "        source_data = source_x.to(device).float()\n",
    "        source_embedding = encoder_inference(encoder, source_data)\n",
    "        target_data = target_x.to(device).float()\n",
    "        target_embedding = encoder_inference(encoder, target_data)\n",
    "        fake_source_embedding = GNet(target_embedding).detach()\n",
    "        \n",
    "        # adversarial loss\n",
    "        loss_D_global = DNet_global(fake_source_embedding,1).mean() - DNet_global(source_embedding,1).mean()\n",
    "        \n",
    "        total_error_D_global += loss_D_global.item()\n",
    "        \n",
    "        loss_D_global.backward()\n",
    "        optimizerD_global.step()\n",
    "        \n",
    "        # Clip weights of discriminator\n",
    "        for p in DNet_global.parameters():\n",
    "            p.data.clamp_(-args.clip_value, args.clip_value)\n",
    "        \n",
    "        if batch_id % args.n_critic == 0:\n",
    "            \"\"\"Update G Network\"\"\"\n",
    "            optimizerG.zero_grad()\n",
    "            optimizerEncoder.zero_grad()\n",
    "            fake_source_embedding = GNet(target_embedding)\n",
    "            \n",
    "            # adversarial loss\n",
    "            loss_G = -DNet_global(fake_source_embedding,1).mean()\n",
    "            \n",
    "            total_error_G += loss_G.item()\n",
    "            \n",
    "            loss_G.backward()\n",
    "            optimizerG.step()\n",
    "#             optimizerEncoder.step()\n",
    "            \n",
    "    logger.info('Epoch: %i, Global Discrimator Updates: Loss D_global: %f, Loss G: %f'%(epoch+1, total_error_D_global, total_error_G))\n",
    "    error_D_global.append(total_error_D_global)\n",
    "    error_G_global.append(total_error_G)\n",
    "    '''\n",
    "    \n",
    "    # Update local Discriminator\n",
    "    total_error_D_local = 0\n",
    "    total_error_G = 0\n",
    "    encoder_source.eval()\n",
    "    encoder_target.eval()\n",
    "    GNet.train()\n",
    "    DNet_local.train()\n",
    "    for batch_id in tqdm(range(math.ceil(target_len/args.batch_size))):\n",
    "        target_x, target_y, target_weight = get_batch_target_data_on_class(target_dict, pesudo_dict, target_unlabel_x, args.num_per_class, no_pesudo=True)\n",
    "        source_x, source_y = get_batch_source_data_on_class(source_dict, args.num_per_class)\n",
    "        \n",
    "        source_x = torch.Tensor(source_x).to(device).float()\n",
    "        target_x = torch.Tensor(target_x).to(device).float()\n",
    "        source_y = torch.LongTensor(target_y).to(device)\n",
    "        target_y = torch.LongTensor(target_y).to(device)\n",
    "        target_weight = torch.Tensor(target_weight).to(device)\n",
    "        source_mask = torch.zeros(source_x.size(0), num_class).to(device).scatter_(1, source_y.unsqueeze(-1), 1)\n",
    "        target_mask = torch.zeros(target_x.size(0), num_class).to(device).scatter_(1, target_y.unsqueeze(-1), 1)\n",
    "        target_weight = torch.zeros(target_x.size(0), num_class).to(device).scatter_(1, target_y.unsqueeze(-1), target_weight.unsqueeze(-1))\n",
    "        \n",
    "\n",
    "        source_weight_count = source_mask.sum(dim=0)\n",
    "        target_weight_count = target_weight.sum(dim=0)\n",
    "    \n",
    "        if args.n_critic > 1:\n",
    "            \"\"\"Update D Net\"\"\"\n",
    "            optimizerD_local.zero_grad()\n",
    "            source_embedding = encoder_inference(encoder_source, source_x)\n",
    "            target_embedding = encoder_inference(encoder_target, target_x)\n",
    "            fake_source_embedding = GNet(target_embedding).detach()\n",
    "\n",
    "            # adversarial loss\n",
    "            source_DNet_local = DNet_local(source_embedding, source_mask)\n",
    "            target_DNet_local = DNet_local(fake_source_embedding, target_mask)\n",
    "\n",
    "            source_weight_count = source_mask.sum(dim=0)\n",
    "            target_weight_count = target_weight.sum(dim=0)\n",
    "\n",
    "            source_DNet_local_mean = source_DNet_local.sum(dim=0) / source_weight_count\n",
    "            target_DNet_local_mean = (target_DNet_local * target_weight).sum(dim=0) / target_weight_count        \n",
    "\n",
    "            gp = _gradient_penalty(source_embedding, fake_source_embedding, DNet_local, source_mask, num_class, device, args)\n",
    "\n",
    "            loss_D_local = (target_DNet_local_mean - source_DNet_local_mean + gp).sum()\n",
    "            loss_D_local = loss_D_local * args.dlocal\n",
    "\n",
    "            total_error_D_local += loss_D_local.item()\n",
    "\n",
    "            loss_D_local.backward()\n",
    "            optimizerD_local.step()\n",
    "\n",
    "            if batch_id % args.n_critic == 0:\n",
    "                \"\"\"Update G Network\"\"\"\n",
    "                optimizerG.zero_grad()\n",
    "                optimizerEncoderSource.zero_grad()\n",
    "                optimizerEncoderTarget.zero_grad()\n",
    "                target_embedding = encoder_inference(encoder_target, target_x)\n",
    "                fake_source_embedding = GNet(target_embedding)\n",
    "\n",
    "                # adversarial loss\n",
    "                target_DNet_local = DNet_local(fake_source_embedding, target_mask)\n",
    "                target_DNet_local_mean = (target_DNet_local * target_weight).sum(dim=0) / target_weight_count        \n",
    "\n",
    "                loss_G = -target_DNet_local_mean.sum() \n",
    "                loss_G = loss_G * args.dlocal\n",
    "\n",
    "                total_error_G += loss_G.item()\n",
    "\n",
    "                loss_G.backward()\n",
    "                optimizerG.step()\n",
    "    #             optimizerEncoder.step()\n",
    "        else:\n",
    "            \"\"\"Update G Network\"\"\"\n",
    "            optimizerG.zero_grad()\n",
    "            optimizerEncoderSource.zero_grad()\n",
    "            optimizerEncoderTarget.zero_grad()\n",
    "            target_embedding = encoder_inference(encoder_target, target_x)\n",
    "            fake_source_embedding = GNet(target_embedding)\n",
    "\n",
    "            # adversarial loss\n",
    "            target_DNet_local = DNet_local(fake_source_embedding, target_mask)\n",
    "            target_DNet_local_mean = (target_DNet_local * target_weight).sum(dim=0) / target_weight_count        \n",
    "\n",
    "            loss_G = -target_DNet_local_mean.sum() \n",
    "            loss_G = loss_G * args.dlocal\n",
    "\n",
    "            total_error_G += loss_G.item()\n",
    "\n",
    "            loss_G.backward()\n",
    "            optimizerG.step()\n",
    "            \n",
    "            if batch_id % int(1/args.n_critic) == 0:\n",
    "                \"\"\"Update D Net\"\"\"\n",
    "                optimizerD_local.zero_grad()\n",
    "                source_embedding = encoder_inference(encoder_source, source_x)\n",
    "                target_embedding = encoder_inference(encoder_target, target_x)\n",
    "                fake_source_embedding = GNet(target_embedding).detach()\n",
    "\n",
    "                # adversarial loss\n",
    "                source_DNet_local = DNet_local(source_embedding, source_mask)\n",
    "                target_DNet_local = DNet_local(fake_source_embedding, target_mask)\n",
    "\n",
    "                source_DNet_local_mean = source_DNet_local.sum(dim=0) / source_weight_count\n",
    "                target_DNet_local_mean = (target_DNet_local * target_weight).sum(dim=0) / target_weight_count        \n",
    "\n",
    "                gp = _gradient_penalty(source_embedding, fake_source_embedding, DNet_local, source_mask, num_class, device, args)\n",
    "\n",
    "                loss_D_local = (target_DNet_local_mean - source_DNet_local_mean + gp).sum()\n",
    "                loss_D_local = loss_D_local * args.dlocal\n",
    "\n",
    "                total_error_D_local += loss_D_local.item()\n",
    "\n",
    "                loss_D_local.backward()\n",
    "                optimizerD_local.step()\n",
    "            \n",
    "    logger.info('Epoch: %i, Local Discrimator Updates: Loss D_global: %f, Loss G: %f'%(epoch+1, total_error_D_local, total_error_G))\n",
    "    error_D_local.append(total_error_D_local)\n",
    "    error_G_global.append(total_error_G)\n",
    "    \n",
    "    np.save(args.save_path+model_sub_folder+'/target_acc_label_.npy',target_acc_label_)\n",
    "    np.save(args.save_path+model_sub_folder+'/source_acc_.npy',source_acc_)\n",
    "    np.save(args.save_path+model_sub_folder+'/target_acc_unlabel_.npy',target_acc_unlabel_)\n",
    "#     np.save(args.save_path+model_sub_folder+'/error_D_global.npy',error_D_global)\n",
    "#     np.save(args.save_path+model_sub_folder+'/error_G_global.npy',error_G_global)\n",
    "    np.save(args.save_path+model_sub_folder+'/error_D_local.npy',error_D_local)\n",
    "    np.save(args.save_path+model_sub_folder+'/error_G_local.npy',error_G_local)\n",
    "\n",
    "    if epoch % args.model_save_period == 0:\n",
    "        torch.save(CNet.state_dict(), args.save_path+model_sub_folder+ '/CNet_%i.t7'%(epoch+1))\n",
    "        torch.save(GNet.state_dict(), args.save_path+model_sub_folder+ '/GNet_%i.t7'%(epoch+1))\n",
    "#         torch.save(encoder.state_dict(), args.save_path+model_sub_folder+ '/encoder_%i.t7'%(epoch+1))\n",
    "#         torch.save(DNet_global.state_dict(),  args.save_path+model_sub_folder+ '/DNet_global_%i.t7'%(epoch+1))\n",
    "        torch.save(DNet_local.state_dict(), args.save_path+model_sub_folder+ '/DNet_local_%i.t7'%(epoch+1))\n"
   ]
  },
  {
   "cell_type": "code",
   "execution_count": 15,
   "metadata": {},
   "outputs": [],
   "source": [
    "a = { 2:234, 3:134,1:21,\n",
    "    }"
   ]
  },
  {
   "cell_type": "code",
   "execution_count": 16,
   "metadata": {},
   "outputs": [],
   "source": [
    "keys = [key for key in a]"
   ]
  },
  {
   "cell_type": "code",
   "execution_count": 18,
   "metadata": {},
   "outputs": [],
   "source": [
    "keys.sort()"
   ]
  },
  {
   "cell_type": "code",
   "execution_count": 19,
   "metadata": {},
   "outputs": [
    {
     "data": {
      "text/plain": [
       "[1, 2, 3]"
      ]
     },
     "execution_count": 19,
     "metadata": {},
     "output_type": "execute_result"
    }
   ],
   "source": [
    "keys"
   ]
  }
 ],
 "metadata": {
  "kernelspec": {
   "display_name": "Python 3",
   "language": "python",
   "name": "python3"
  },
  "language_info": {
   "codemirror_mode": {
    "name": "ipython",
    "version": 3
   },
   "file_extension": ".py",
   "mimetype": "text/x-python",
   "name": "python",
   "nbconvert_exporter": "python",
   "pygments_lexer": "ipython3",
   "version": "3.6.9"
  }
 },
 "nbformat": 4,
 "nbformat_minor": 2
}
