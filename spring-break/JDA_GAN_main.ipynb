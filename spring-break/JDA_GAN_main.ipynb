{
 "cells": [
  {
   "cell_type": "code",
   "execution_count": 8,
   "metadata": {},
   "outputs": [],
   "source": [
    "import sys, os, inspect\n",
    "current_dir = os.path.dirname(os.path.abspath(inspect.getfile(inspect.currentframe())))\n",
    "parent_dir = os.path.dirname(current_dir)\n",
    "sys.path.insert(0, parent_dir)"
   ]
  },
  {
   "cell_type": "code",
   "execution_count": 15,
   "metadata": {},
   "outputs": [],
   "source": [
    "import numpy as np\n",
    "import random\n",
    "import copy\n",
    "import math\n",
    "from tqdm import tqdm\n",
    "import torch\n",
    "from torch import nn\n",
    "from torch.utils.data import Dataset, DataLoader\n",
    "from torch.optim.lr_scheduler import ReduceLROnPlateau\n",
    "import torch.nn.functional as F\n",
    "import torch.backends.cudnn as cudnn\n",
    "from martins.complex_transformer import ComplexTransformer\n",
    "from GAN import Generator, Discriminator\n",
    "from data_utils import *\n",
    "import argparse\n",
    "import logging\n",
    "import logging.handlers"
   ]
  },
  {
   "cell_type": "markdown",
   "metadata": {},
   "source": [
    "# DataLoader"
   ]
  },
  {
   "cell_type": "code",
   "execution_count": 44,
   "metadata": {},
   "outputs": [],
   "source": [
    "def JoinDataset(Dataset):\n",
    "    def __init__(self, source_x, source_y, target_x, target_y):\n",
    "        super(JoinDataset, self).__init__()\n",
    "        self.source_x = source_x\n",
    "        self.source_y = source_y\n",
    "        self.target_x = target_x\n",
    "        self.target_y = target_y\n",
    "    \n",
    "    def __len__(self):\n",
    "        return self.target_y.shape[0]\n",
    "    \n",
    "    def __getitem__(self, index):\n",
    "        return (source_x[index], source_y[index]), (target_x[index], target_y[index])"
   ]
  },
  {
   "cell_type": "markdown",
   "metadata": {},
   "source": [
    "# Parser"
   ]
  },
  {
   "cell_type": "code",
   "execution_count": 10,
   "metadata": {
    "scrolled": true
   },
   "outputs": [
    {
     "name": "stderr",
     "output_type": "stream",
     "text": [
      "usage: ipykernel_launcher.py [-h] [--data_path DATA_PATH] [--task TASK]\n",
      "                             [--batch_size BATCH_SIZE] [--epochs EPOCHS]\n",
      "                             [--lr_gan LR_GAN] [--lr_clf LR_CLF] [--gap GAP]\n",
      "                             [--lbl_percentage LBL_PERCENTAGE]\n",
      "                             [--num_per_class NUM_PER_CLASS] [--seed SEED]\n",
      "                             [--classifier CLASSIFIER] [--save_path SAVE_PATH]\n",
      "                             [--model_save_period MODEL_SAVE_PERIOD]\n",
      "ipykernel_launcher.py: error: unrecognized arguments: -f /Users/stevenliu/Library/Jupyter/runtime/kernel-a776d127-4b7f-40e6-b44a-7f61be33204a.json\n"
     ]
    },
    {
     "ename": "SystemExit",
     "evalue": "2",
     "output_type": "error",
     "traceback": [
      "An exception has occurred, use %tb to see the full traceback.\n",
      "\u001b[0;31mSystemExit\u001b[0m\u001b[0;31m:\u001b[0m 2\n"
     ]
    }
   ],
   "source": [
    "# Parameters\n",
    "parser = argparse.ArgumentParser(description='JDA Time series adaptation')\n",
    "parser.add_argument(\"--data_path\", type=str, default=\"/projects/rsalakhugroup/complex/domain_adaptation\", help=\"dataset path\")\n",
    "parser.add_argument(\"--task\", type=str, help='3A or 3E')\n",
    "parser.add_argument('--batch_size', type=int, default=256, help='batch size')\n",
    "parser.add_argument('--epochs', type=int, default=50, help='number of epochs')\n",
    "parser.add_argument('--lr_gan', type=float, default=1e-4, help='learning rate for adversarial')\n",
    "parser.add_argument('--lr_clf', type=float, default=1e-4, help='learning rate for classification')\n",
    "parser.add_argument('--gap', type=int, default=4, help='gap: Generator train GAP times, discriminator train once')\n",
    "parser.add_argument('--lbl_percentage', type=float, default=0.2, help='percentage of which target data has label')\n",
    "parser.add_argument('--num_per_class', type=int, default=-1, help='number of sample per class when training local discriminator')\n",
    "parser.add_argument('--seed', type=int, help='manual seed')\n",
    "parser.add_argument('--classifier', type=str, help='cnet model file')\n",
    "parser.add_argument('--save_path', type=str, default='../train_related/JDA_GAN', help='where to store data')\n",
    "parser.add_argument('--model_save_period', type=int, default=2, help='period in which the model is saved')\n",
    "\n",
    "args = parser.parse_args()\n",
    "device = torch.device('cuda:0' if torch.cuda.is_available() else 'cpu')\n",
    "\n",
    "# seed\n",
    "if args.seed is None:\n",
    "    args.seed = random.randint(1, 10000)\n",
    "torch.manual_seed(args.seed)\n",
    "torch.cuda.manual_seed(args.seed)\n",
    "np.random.seed(args.seed)\n",
    "cudnn.deterministic = True\n",
    "torch.backends.cudnn.deterministic = True\n",
    "\n",
    "\n",
    "args.task = '3Av2' if args.task == '3A' else '3E'\n",
    "d_out = 50 if args.task == \"3Av2\" else 65\n",
    "device = torch.device('cuda:0' if torch.cuda.is_available() else 'cpu')\n",
    "\n",
    "if args.num_per_class == -1:\n",
    "    args.num_per_class = math.ceil(args.batch_size / d_out)\n",
    "    \n",
    "model_sub_folder = '/task_%s_gap_%s_lblPer_%i_numPerClass_%i'%(args.task, args.gap, args.lbl_percentage, args.num_per_class)\n",
    "    \n"
   ]
  },
  {
   "cell_type": "markdown",
   "metadata": {},
   "source": [
    "# Logger"
   ]
  },
  {
   "cell_type": "code",
   "execution_count": 41,
   "metadata": {},
   "outputs": [],
   "source": [
    "logger = logging.getLogger()\n",
    "logger.setLevel(logging.INFO)\n",
    "\n",
    "file_log_handler = logging.FileHandler('/Users/stevenliu/Downloads/aws/logfile.log')\n",
    "logger.addHandler(file_log_handler)\n",
    "\n",
    "stdout_log_handler = logging.StreamHandler(sys.stdout)\n",
    "logger.addHandler(stdout_log_handler)\n"
   ]
  },
  {
   "cell_type": "code",
   "execution_count": null,
   "metadata": {},
   "outputs": [],
   "source": [
    "target_dict, (target_unlabel_x, target_unlabel_y),(a,b), target_len  = get_target_dict(args.data_path+'processed_file_%s.pkl'%args.task, d_out, args.lbl_percentage)\n",
    "source_dict, source_len = get_source_dict(args.data_path+'/processed_file_%s.pkl'%args.task, d_out, data_len=target_len)\n"
   ]
  },
  {
   "cell_type": "markdown",
   "metadata": {},
   "source": [
    "# GAN Initialize"
   ]
  },
  {
   "cell_type": "code",
   "execution_count": 13,
   "metadata": {},
   "outputs": [],
   "source": [
    "def weights_init(m):\n",
    "    classname = m.__class__.__name__\n",
    "    if classname.find('Conv') != -1:\n",
    "        m.weight.data.normal_(0.0, 0.02)\n",
    "    elif classname.find('LayerNorm') != -1:\n",
    "        m.weight.data.normal_(1.0, 0.02)\n",
    "        m.bias.data.fill_(0)\n"
   ]
  },
  {
   "cell_type": "code",
   "execution_count": null,
   "metadata": {},
   "outputs": [],
   "source": [
    "real_label = 0.99 # target domain\n",
    "fake_label = 0.01 # source domain\n",
    "\n",
    "encoder = ComplexTransformer\n",
    "\n",
    "\n",
    "feature_dim_joint = 2 * feature_dim\n",
    "DNet_global = Discriminator(feature_dim=feature_dim_joint, d_out=d_out).to(device)\n",
    "DNet_local = Discriminator(feature_dim=feature_dim_joint, d_out=d_out).to(device)\n",
    "GNet = Generator(feature_dim=feature_dim_joint).to(device)\n",
    "DNet_global.apply(weights_init)\n",
    "DNet_local.apply(weights_init)\n",
    "GNet.apply(weights_init)\n",
    "optimizerD_global = torch.optim.Adam(DNet_global.parameters(), lr=args.lr_gan)\n",
    "optimizerD_local = torch.optim.Adam(DNet_local.parameters(), lr=args.lr_gan)\n",
    "optimizerG = torch.optim.Adam(GNet.parameters(), lr=args.lr_gan)"
   ]
  },
  {
   "cell_type": "markdown",
   "metadata": {},
   "source": [
    "# Train"
   ]
  },
  {
   "cell_type": "code",
   "execution_count": 45,
   "metadata": {},
   "outputs": [
    {
     "ename": "NameError",
     "evalue": "name 'source_x' is not defined",
     "output_type": "error",
     "traceback": [
      "\u001b[0;31m---------------------------------------------------------------------------\u001b[0m",
      "\u001b[0;31mNameError\u001b[0m                                 Traceback (most recent call last)",
      "\u001b[0;32m<ipython-input-45-fb27da44ff91>\u001b[0m in \u001b[0;36m<module>\u001b[0;34m\u001b[0m\n\u001b[0;32m----> 1\u001b[0;31m \u001b[0mjoin_dataset\u001b[0m \u001b[0;34m=\u001b[0m \u001b[0mJoinDataset\u001b[0m\u001b[0;34m(\u001b[0m\u001b[0msource_x\u001b[0m\u001b[0;34m,\u001b[0m \u001b[0msource_y\u001b[0m\u001b[0;34m,\u001b[0m \u001b[0mtarget_x\u001b[0m\u001b[0;34m,\u001b[0m \u001b[0mtarget_y\u001b[0m\u001b[0;34m)\u001b[0m\u001b[0;34m\u001b[0m\u001b[0;34m\u001b[0m\u001b[0m\n\u001b[0m\u001b[1;32m      2\u001b[0m \u001b[0mjoin_dataloader\u001b[0m \u001b[0;34m=\u001b[0m \u001b[0mDataLoader\u001b[0m\u001b[0;34m(\u001b[0m\u001b[0mjoin_dataset\u001b[0m\u001b[0;34m,\u001b[0m \u001b[0mbatch_size\u001b[0m\u001b[0;34m=\u001b[0m\u001b[0margs\u001b[0m\u001b[0;34m.\u001b[0m\u001b[0mbatch_size\u001b[0m\u001b[0;34m,\u001b[0m \u001b[0mshuffle\u001b[0m\u001b[0;34m=\u001b[0m\u001b[0;32mTrue\u001b[0m\u001b[0;34m,\u001b[0m \u001b[0mpin_memory\u001b[0m\u001b[0;34m=\u001b[0m\u001b[0;32mTrue\u001b[0m\u001b[0;34m,\u001b[0m \u001b[0mnum_worker\u001b[0m\u001b[0;34m=\u001b[0m\u001b[0;36m4\u001b[0m\u001b[0;34m)\u001b[0m\u001b[0;34m\u001b[0m\u001b[0;34m\u001b[0m\u001b[0m\n",
      "\u001b[0;31mNameError\u001b[0m: name 'source_x' is not defined"
     ]
    }
   ],
   "source": [
    "join_dataset = JoinDataset(source_x, source_y, target_x, target_y)\n",
    "join_dataloader = DataLoader(join_dataset, batch_size=args.batch_size, shuffle=True, pin_memory=True, num_worker=4)"
   ]
  },
  {
   "cell_type": "code",
   "execution_count": null,
   "metadata": {},
   "outputs": [],
   "source": [
    "for epoch in range(args.epochs):\n",
    "    # update classifier\n",
    "    # TODO: complete this\n",
    "    for batch_id, (x_batch, y_batch) in tqdm(enumerate())\n",
    "    \n",
    "    # Assign Pesudo Label\n",
    "    correct_target = 0.0\n",
    "    target_pesudo_y = []\n",
    "    for batch in range(math.ceil(target_unlabel_x.shape[0]/args.batch_size)):\n",
    "        target_unlabel_x_batch = torch.Tensor(target_unlabel_x[batch*args.batch_size:(batch+1)*args.batch_size], device=device).to(device).float()\n",
    "        target_unlabel_y_batch = torch.Tensor(target_unlabel_y[batch*args.batch_size:(batch+1)*args.batch_size], device=device)\n",
    "        pred = classifier_inference(encoder, CNet, target_unlabel_x_batch, target_mean, target_std)\n",
    "        correct_target += (pred.argmax(-1) == target_unlabel_y_batch.argmax(-1)).sum().item()\n",
    "        target_pesudo_y.extend(pred.argmax(-1).numpy())\n",
    "\n",
    "    target_pesudo_y = np.array(target_pesudo_y)\n",
    "    pesudo_dict = get_class_data_dict(target_unlabel_x, target_pesudo_y, num_class)\n",
    "    logger.info('Epoch: %i, assigned pesudo label with accuracy %f'%(epoch+1, correct_target/target_unlabel_x.shape[0]))\n",
    "    \n",
    "    # Update GAN\n",
    "    # Update global Discriminator\n",
    "    total_error_D_global = 0\n",
    "    total_error_G = 0\n",
    "    # TODO: write/check a dataloader to return source and target seperately\n",
    "    for batch_id, ((source_x, source_y), (target_x, target_y)) in tqdm(enumerate(joint_dataloader)):\n",
    "        batch_size = target_x.shape[0]\n",
    "        # TODO: why???\n",
    "#         target_x = target_x.reshape(batch_size, seq_len, feature_dim_joint)\n",
    "#         source_x = source_x.reshape(batch_size, seq_len, feature_dim_joint)\n",
    "\n",
    "#         # Data Normalization\n",
    "#         target_x = (target_x - target_mean) / target_std\n",
    "#         source_x = (source_x - source_mean) / source_std\n",
    "\n",
    "        \"\"\"Update D Net\"\"\"\n",
    "        optimizerD_global.zero_grad()\n",
    "        source_data = source_x.to(device).float()\n",
    "        source_embedding = encoder(source_data)\n",
    "        target_data = source_y.to(device).float()\n",
    "        target_embedding = encoder(target_data)\n",
    "        fake_source_embedding = GNet(target_embedding).detach()\n",
    "        \n",
    "        # adversarial loss\n",
    "        loss_D_global = DNet_global(fake_source_embedding).mean() - DNet_global(source_embedding).mean()\n",
    "        \n",
    "        total_error_D_global += loss_D_global.item()\n",
    "        \n",
    "        loss_D_global.backward()\n",
    "        optimizerD_global.step()\n",
    "        \n",
    "        # Clip weights of discriminator\n",
    "        for p in DNet_global.parameters():\n",
    "            p.data.clamp_(-args.clip_value, args.clip_value)\n",
    "        \n",
    "        if batch_id % args.n_critic == 0:\n",
    "            \"\"\"Update G Network\"\"\"\n",
    "            optimizerG.zero_grad()\n",
    "            fake_source_embedding = GNet(target_embedding)\n",
    "            \n",
    "            # adversarial loss\n",
    "            loss_G = -DNet_global(fake_source_embedding).mean()\n",
    "            \n",
    "            total_error_G += loss_G.item()\n",
    "            \n",
    "            loss_G.step()\n",
    "            optimizerG.step()\n",
    "            \n",
    "    logger.info('Epoch: %i, Global Discrimator Updates: Loss D_global: %f, Loss G: %f'%(epoch+1, total_error_D_global, total_error_G))\n",
    "    \n",
    "    # Update local Discriminator\n",
    "    for batch_id in tqdm(range(math.ceil(target_len/args.batch_size))):\n",
    "        target_x, target_y, target_weight = get_batch_target_data_on_class(target_dict, pesudo_dict, target_unlabel_x, args.num_per_class)\n",
    "        source_x, source_y = get_batch_source_data_on_class(source_dict, args.num_per_class)\n",
    "        \n",
    "        source_x = torch.Tensor(source_x, device=device)\n",
    "        target_x = torch.Tensor(target_x, device=device)\n",
    "        source_y = torch.LongTensor(target_y, device=device)\n",
    "        target_y = torch.LongTensor(target_y, device=device)\n",
    "        source_mask = torch.zeros(source_x.size(0), d_out).scatter_(1, source_y, 1)\n",
    "        target_mask = torch.zeros(target_x.size(0), d_out).scatter_(1, target_y, 1)\n",
    "        target_weight = torch.Tensor(target_weight, device=device)\n",
    "        batch_size = target_x.shape[0]\n",
    "        \n",
    "        #TODO: why???\n",
    "        source_x = source_x.reshape(source_x.size(0), seq_len, feature_dim_joint)\n",
    "        target_x = target_x.reshape(target_x.size(0), seq_len, feature_dim_joint)\n",
    "        \n",
    "#         # Data Normalization\n",
    "#         target_x = (target_x - target_mean) / target_std\n",
    "#         source_x = (source_x - source_mean) / source_std\n",
    "        \n",
    "    \n",
    "    \n",
    "        \"\"\"Update D Net\"\"\"\n",
    "        optimizerD_local.zero_grad()\n",
    "        source_data = source_x.to(device).float()\n",
    "        source_embedding = encoder(source_data)\n",
    "        target_data = source_y.to(device).float()\n",
    "        target_embedding = encoder(target_data)\n",
    "        fake_source_embedding = GNet(target_embedding).detach()\n",
    "        \n",
    "        # adversarial loss\n",
    "        source_DNet_local = DNet_local(source_embedding, source_mask)\n",
    "        target_DNet_local = DNet_local(fake_source_embedding, target_mask)\n",
    "        \n",
    "        source_mask_count = source_mask.sum(dim=0)\n",
    "        target_mask_count = target_mask.sum(dim=0)\n",
    "        \n",
    "        source_DNet_local_mean = source_DNet_local.sum(dim=0) / source_mask_count\n",
    "        target_DNet_local_mean = target_DNet_local.sum(dim=0) / target_mask_count        \n",
    "        \n",
    "        loss_D_local = target_DNet_local_mean - source_DNet_local_mean\n",
    "        \n",
    "        total_error_D_local += loss_D_local.item()\n",
    "        \n",
    "        loss_D_local.backward()\n",
    "        optimizerD_local.step()\n",
    "        \n",
    "        # Clip weights of discriminator\n",
    "        for p in DNet_local.parameters():\n",
    "            p.data.clamp_(-args.clip_value, args.clip_value)\n",
    "        \n",
    "        if batch_id % args.n_critic == 0:\n",
    "            \"\"\"Update G Network\"\"\"\n",
    "            optimizerG.zero_grad()\n",
    "            fake_source_embedding = GNet(target_embedding)\n",
    "            \n",
    "            # adversarial loss\n",
    "            loss_G = -DNet_local(fake_source_embedding).mean()\n",
    "            \n",
    "            total_error_G += loss_G.item()\n",
    "            \n",
    "            loss_G.step()\n",
    "            optimizerG.step()\n",
    "            \n",
    "    logger.info('Epoch: %i, Local Discrimator Updates: Loss D_global: %f, Loss G: %f'%(epoch+1, total_error_D_global, total_error_G))\n",
    "    \n",
    "    \n",
    "    \n",
    "    \n",
    "    \n",
    "    \n",
    "    \n",
    "    \n",
    "        \"\"\"Update D Net\"\"\"\n",
    "        # train with source domain\n",
    "        DNet_local.zero_grad()\n",
    "        source_data = source_x.to(device).float()\n",
    "        label = torch.full((batch_size,), real_label, device=device)\n",
    "        output = DNet_local(source_data).view(-1)\n",
    "        #print(output.mean().item())\n",
    "        errD_local_source = criterion_gan_local(output, label).mean()\n",
    "        errD_local_source.backward()\n",
    "\n",
    "        # train with target domain\n",
    "        target_data = target_x.to(device).float()\n",
    "        fake = GNet(target_data)\n",
    "        #print(fake)\n",
    "        label.fill_(fake_label)\n",
    "        output = DNet_local(fake.detach()).view(-1)\n",
    "        errD_local_target = criterion_gan_local(output, label)\n",
    "        errD_local_target = (errD_local_target * target_weight).mean()\n",
    "        errD_local_target.backward()\n",
    "        total_error_D_local += (errD_local_source + errD_local_target).item()\n",
    "        \n",
    "        if batch_id % args.gap == 0:\n",
    "            optimizerD_local.step()\n",
    "\n",
    "        \"\"\"Update G Network\"\"\"\n",
    "        GNet.zero_grad()\n",
    "        label.fill_(real_label) # fake labels are real for generator cost\n",
    "        output = DNet_local(fake).view(-1)\n",
    "\n",
    "        errG = criterion_gan_local(output, label)\n",
    "        errG = (errG * target_weight).mean()\n",
    "        errG.backward()\n",
    "        optimizerG.step()\n",
    "        total_error_G += errG.item()\n",
    "\n"
   ]
  },
  {
   "cell_type": "code",
   "execution_count": 81,
   "metadata": {},
   "outputs": [
    {
     "data": {
      "text/plain": [
       "tensor([[0., 0., 0., 0., 0.],\n",
       "        [0., 0., 0., 0., 0.],\n",
       "        [0., 0., 0., 0., 0.],\n",
       "        [0., 0., 0., 0., 0.],\n",
       "        [0., 0., 0., 0., 0.],\n",
       "        [0., 0., 0., 0., 0.],\n",
       "        [0., 0., 0., 0., 0.],\n",
       "        [0., 0., 0., 0., 0.],\n",
       "        [0., 0., 0., 0., 0.],\n",
       "        [0., 0., 0., 0., 0.]])"
      ]
     },
     "execution_count": 81,
     "metadata": {},
     "output_type": "execute_result"
    }
   ],
   "source": [
    "a"
   ]
  }
 ],
 "metadata": {
  "kernelspec": {
   "display_name": "Python 3",
   "language": "python",
   "name": "python3"
  },
  "language_info": {
   "codemirror_mode": {
    "name": "ipython",
    "version": 3
   },
   "file_extension": ".py",
   "mimetype": "text/x-python",
   "name": "python",
   "nbconvert_exporter": "python",
   "pygments_lexer": "ipython3",
   "version": "3.6.9"
  }
 },
 "nbformat": 4,
 "nbformat_minor": 2
}
