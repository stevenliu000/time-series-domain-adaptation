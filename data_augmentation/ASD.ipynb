{
 "cells": [
  {
   "cell_type": "markdown",
   "metadata": {},
   "source": [
    "# Data augmentation\n",
    "\n",
    "method used here is based on the following paper\n",
    "\n",
    "Germain Forestier et al. \"Generating synthetic time series to augment sparse datasets\". ICDM 2017."
   ]
  },
  {
   "cell_type": "code",
   "execution_count": 1,
   "metadata": {},
   "outputs": [],
   "source": [
    "import sys, os, inspect\n",
    "current_dir = os.path.dirname(os.path.abspath(inspect.getfile(inspect.currentframe())))\n",
    "parent_dir = os.path.dirname(current_dir)\n",
    "sys.path.insert(0, parent_dir)\n",
    "sys.path.insert(0, os.path.join(parent_dir,'spring-break'))\n",
    "sys.path.insert(0, os.path.join(parent_dir,'Linear Classifier'))"
   ]
  },
  {
   "cell_type": "code",
   "execution_count": 18,
   "metadata": {},
   "outputs": [],
   "source": [
    "import numpy as np\n",
    "import random\n",
    "import copy\n",
    "import math\n",
    "from tqdm import tqdm\n",
    "import torch\n",
    "from torch import nn\n",
    "from torch.utils.data import Dataset, DataLoader\n",
    "from torch.optim.lr_scheduler import ReduceLROnPlateau\n",
    "import torch.nn.functional as F\n",
    "import torch.backends.cudnn as cudnn\n",
    "from martins.complex_transformer import ComplexTransformer\n",
    "from FNNLinear import FNNLinear\n",
    "from FNNSeparated import FNNSeparated\n",
    "from GAN import Generator, Discriminator\n",
    "from data_utils import *\n",
    "import argparse\n",
    "import logging\n",
    "import logging.handlers\n",
    "import pickle\n",
    "from centerloss import CenterLoss\n",
    "from DataSetLoader import JoinDataset, SingleDataset\n",
    "from torch.autograd import Variable\n",
    "from binaryloss import BinaryLoss\n",
    "\n",
    "from tslearn.barycenters import dtw_barycenter_averaging\n",
    "from tslearn.metrics import dtw\n",
    "from tslearn.neighbors import KNeighborsTimeSeriesClassifier, KNeighborsTimeSeries"
   ]
  },
  {
   "cell_type": "code",
   "execution_count": 4,
   "metadata": {},
   "outputs": [],
   "source": [
    "# local only\n",
    "class local_args:\n",
    "    def __init__(self, **entries):\n",
    "        self.__dict__.update(entries)\n",
    "        \n",
    "args = local_args(**{\n",
    "    'data_path': '../data_unzip',\n",
    "    'task': '3E',\n",
    "    'num_class': 50,\n",
    "    'batch_size': 100,\n",
    "    'num_per_class': -1,\n",
    "    'gap': 5,\n",
    "    'lbl_percentage':0.7,\n",
    "    'lr_gan': 1e-4,\n",
    "    'lr_FNN': 1e-4,\n",
    "    'lr_encoder': 1e-4,\n",
    "    'epochs': 2,\n",
    "    'clip_value': 0.01,\n",
    "    'n_critic': 4,\n",
    "    'sclass': 0.7,\n",
    "    'scent': 1e-2,\n",
    "    'seed': None,\n",
    "    'save_path': '../train_related',\n",
    "    'model_save_period': 1,\n",
    "    'lr_centerloss': 1e-3,\n",
    "    'lr_prototype': 1e-3,\n",
    "    'sprototype': 1e-2,\n",
    "    'seed': 0,\n",
    "    'select_pretrain_epoch': 77,\n",
    "    'epoch_begin_prototype': 0,\n",
    "    'sbinary_loss': 1,\n",
    "    'gpu_num': 0,\n",
    "    'source_lbl_percentage': 0.7,\n",
    "    'target_lbl_percentage': 0.7\n",
    "})"
   ]
  },
  {
   "cell_type": "code",
   "execution_count": 5,
   "metadata": {},
   "outputs": [],
   "source": [
    "labeled_target_x_filename = '/processed_file_not_one_hot_%s_%1.1f_target_known_label_x.npy'%(args.task, args.target_lbl_percentage)\n",
    "labeled_target_y_filename = '/processed_file_not_one_hot_%s_%1.1f_target_known_label_y.npy'%(args.task, args.target_lbl_percentage)\n",
    "unlabeled_target_x_filename = '/processed_file_not_one_hot_%s_%1.1f_target_unknown_label_x.npy'%(args.task, args.target_lbl_percentage)\n",
    "unlabeled_target_y_filename = '/processed_file_not_one_hot_%s_%1.1f_target_unknown_label_y.npy'%(args.task, args.target_lbl_percentage)\n",
    "labeled_target_x = np.load(args.data_path+labeled_target_x_filename)\n",
    "labeled_target_y = np.load(args.data_path+labeled_target_y_filename)\n",
    "unlabeled_target_x = np.load(args.data_path+unlabeled_target_x_filename)\n",
    "unlabeled_target_y = np.load(args.data_path+unlabeled_target_y_filename)\n",
    "labeled_target_dataset = SingleDataset(labeled_target_x, labeled_target_y)\n",
    "unlabled_target_dataset = SingleDataset(unlabeled_target_x, unlabeled_target_y)\n",
    "labeled_target_dataloader = DataLoader(labeled_target_dataset, batch_size=args.batch_size, shuffle=True, pin_memory=True, num_workers=4)\n",
    "unlabeled_target_dataloader = DataLoader(unlabled_target_dataset, batch_size=args.batch_size, shuffle=False, pin_memory=True, num_workers=4)\n",
    "\n",
    "labeled_source_x_filename = '/processed_file_not_one_hot_%s_%1.1f_source_known_label_x.npy'%(args.task, args.source_lbl_percentage)\n",
    "labeled_source_y_filename = '/processed_file_not_one_hot_%s_%1.1f_source_known_label_y.npy'%(args.task, args.source_lbl_percentage)\n",
    "unlabeled_source_x_filename = '/processed_file_not_one_hot_%s_%1.1f_source_unknown_label_x.npy'%(args.task, args.source_lbl_percentage)\n",
    "unlabeled_source_y_filename = '/processed_file_not_one_hot_%s_%1.1f_source_unknown_label_y.npy'%(args.task, args.source_lbl_percentage)\n",
    "labeled_source_x = np.load(args.data_path+labeled_source_x_filename)\n",
    "labeled_source_y = np.load(args.data_path+labeled_source_y_filename)\n",
    "unlabeled_source_x = np.load(args.data_path+unlabeled_source_x_filename)\n",
    "unlabeled_source_y = np.load(args.data_path+unlabeled_source_y_filename)\n",
    "labeled_source_dataset = SingleDataset(labeled_source_x, labeled_source_y)\n",
    "unlabled_source_dataset = SingleDataset(unlabeled_source_x, unlabeled_source_y)\n",
    "labeled_source_dataloader = DataLoader(labeled_source_dataset, batch_size=args.batch_size, shuffle=True, pin_memory=True, num_workers=4)\n",
    "unlabeled_source_dataloader = DataLoader(unlabled_source_dataset, batch_size=args.batch_size, shuffle=False, pin_memory=True, num_workers=4)"
   ]
  },
  {
   "cell_type": "code",
   "execution_count": 6,
   "metadata": {},
   "outputs": [
    {
     "data": {
      "text/plain": [
       "(9880, 1600, 2)"
      ]
     },
     "execution_count": 6,
     "metadata": {},
     "output_type": "execute_result"
    }
   ],
   "source": [
    "labeled_source_x.shape"
   ]
  },
  {
   "cell_type": "code",
   "execution_count": 7,
   "metadata": {},
   "outputs": [
    {
     "data": {
      "text/plain": [
       "(9880,)"
      ]
     },
     "execution_count": 7,
     "metadata": {},
     "output_type": "execute_result"
    }
   ],
   "source": [
    "labeled_source_y.shape"
   ]
  },
  {
   "cell_type": "code",
   "execution_count": 9,
   "metadata": {},
   "outputs": [
    {
     "data": {
      "text/plain": [
       "(4940, 1600, 2)"
      ]
     },
     "execution_count": 9,
     "metadata": {},
     "output_type": "execute_result"
    }
   ],
   "source": [
    "labeled_target_x.shape"
   ]
  },
  {
   "cell_type": "code",
   "execution_count": 10,
   "metadata": {},
   "outputs": [
    {
     "data": {
      "text/plain": [
       "(4940,)"
      ]
     },
     "execution_count": 10,
     "metadata": {},
     "output_type": "execute_result"
    }
   ],
   "source": [
    "labeled_target_y.shape"
   ]
  },
  {
   "cell_type": "markdown",
   "metadata": {},
   "source": [
    "# ASD for source labeled"
   ]
  },
  {
   "cell_type": "code",
   "execution_count": 13,
   "metadata": {},
   "outputs": [
    {
     "data": {
      "text/plain": [
       "array([[ 0.01459876,  0.0234728 ],\n",
       "       [-0.01661602,  0.06393354],\n",
       "       [-0.04156876, -0.00610017],\n",
       "       ...,\n",
       "       [ 0.15926704,  0.07266202],\n",
       "       [-0.07154952,  0.18946992],\n",
       "       [-0.06384353, -0.08018603]])"
      ]
     },
     "execution_count": 13,
     "metadata": {},
     "output_type": "execute_result"
    }
   ],
   "source": [
    "dtw_barycenter_averaging(labeled_source_x[1:10])"
   ]
  },
  {
   "cell_type": "code",
   "execution_count": 16,
   "metadata": {},
   "outputs": [
    {
     "data": {
      "text/plain": [
       "14.821511658608665"
      ]
     },
     "execution_count": 16,
     "metadata": {},
     "output_type": "execute_result"
    }
   ],
   "source": [
    "# calculating dtw\n",
    "dtw(labeled_source_x[0], labeled_source_x[2])"
   ]
  },
  {
   "cell_type": "code",
   "execution_count": 22,
   "metadata": {},
   "outputs": [
    {
     "name": "stdout",
     "output_type": "stream",
     "text": [
      "6.671230818715468\n",
      "4\n"
     ]
    }
   ],
   "source": [
    "# nearest neighor\n",
    "nearest_dist = 222222222222222222222\n",
    "nearest_ind = 0\n",
    "for i in range(1, 10):\n",
    "    d = dtw(labeled_source_x[0], labeled_source_x[i])\n",
    "    if d < nearest_dist:\n",
    "        nearest_ind = i\n",
    "        nearest_dist = d\n",
    "print(nearest_dist)\n",
    "print(nearest_ind)"
   ]
  },
  {
   "cell_type": "code",
   "execution_count": 59,
   "metadata": {},
   "outputs": [
    {
     "name": "stderr",
     "output_type": "stream",
     "text": [
      "100%|██████████| 152/152 [00:09<00:00, 15.45it/s]"
     ]
    },
    {
     "name": "stdout",
     "output_type": "stream",
     "text": [
      "[ 8.2742165   6.34934706 17.71207496 13.85720654 12.86421968  7.51398101\n",
      " 13.99496833 19.55985273 17.33340741  9.15442174 17.39403575 15.96675186\n",
      "  9.31999309 16.18260714 19.21428661 16.92484852 17.17795166 15.50383399\n",
      " 10.11755003 13.77903165 17.05949879  9.29324511 19.64773425  9.22102775\n",
      " 15.00020535  8.43175672  8.89351571 13.34332414  8.62486632  8.79396818\n",
      "  9.14873448  7.59889158 17.29450933 16.88324151 17.97545967 16.59560545\n",
      " 17.244924   16.81956109 18.69009706 17.1530952  13.8422562  18.47938921\n",
      " 17.09531338 17.81178189 19.02028469 11.74256487  9.04245024  9.01235184\n",
      "  9.29247495  9.74614365  6.37005255 15.83027538 18.01183644  8.86286936\n",
      "  0.          7.98438942 17.07296095  9.07944894  9.18311408 17.94914321\n",
      "  8.51076187 18.74762616  8.43055972 19.56777982  6.4028544   8.66225559\n",
      " 18.17711091  7.99152833 16.95694437 18.74314009 16.87868588 17.05193397\n",
      "  4.9498377  18.82158493 17.66085899  9.91703893 10.9053642  17.78062151\n",
      " 16.23127137 17.91677394 18.41923017  7.02923527 16.78536382  9.12253764\n",
      " 17.71130386  9.17951981 18.23380679 18.74892805  9.30016916 12.19674492\n",
      "  9.18856555 17.65964528  8.59573198 16.12496084 20.2056767   9.19615202\n",
      " 16.00841307  6.19421146  9.21880289  8.79918701  9.11980231  7.13507506\n",
      "  8.52071367  7.26882485 16.80608649  8.40339919  8.73489917 17.55375621\n",
      " 12.70837324 12.67991881 18.43480576 17.08671091 17.53369923 18.39918962\n",
      " 17.79502499  8.70119884 16.8976761  18.33253198 14.84346046  6.96862276\n",
      " 16.2108944  16.4692343  14.2170681   8.40258585 17.42568599  8.74434455\n",
      "  8.49624401 10.51448945 11.90137294  4.57339617  9.04942075 16.81617336\n",
      " 17.29158652 17.71331614 17.42894795  9.3941081  16.74395262  6.29569184\n",
      " 18.50868454 17.71694198 18.31033171 12.33733028  8.67033036 18.30640917\n",
      " 13.97520834 13.38530652 18.14985551 11.92521176 16.46579236  7.94625104\n",
      " 17.6592436  17.87536569]\n",
      "4.57339616659527\n",
      "129\n"
     ]
    },
    {
     "name": "stderr",
     "output_type": "stream",
     "text": [
      "\n"
     ]
    }
   ],
   "source": [
    "# for class 1\n",
    "\n",
    "class_ind = np.where(labeled_source_y == 1)\n",
    "class_x = labeled_source_x[class_ind]\n",
    "\n",
    "# randomly chose one from the same class\n",
    "t_star_ind = np.random.choice(class_x.shape[0], 1)\n",
    "t_star = class_x[t_star_ind,][0]\n",
    "t_star.shape\n",
    "\n",
    "# compute weight\n",
    "dtw_class_t = np.empty((class_x.shape[0],))\n",
    "dnn = float('inf')\n",
    "dnn_ind = float('inf')\n",
    "for i in tqdm(range(class_x.shape[0])):\n",
    "    dist = dtw(class_x[i], t_star)\n",
    "    dtw_class_t[i] = dist\n",
    "    if dist < dnn and i != t_star_ind:\n",
    "        dnn = dist\n",
    "        dnn_ind = i\n",
    "weight = np.exp(np.log(0.5) * dtw_class_t / dnn)"
   ]
  },
  {
   "cell_type": "code",
   "execution_count": 66,
   "metadata": {},
   "outputs": [
    {
     "data": {
      "text/plain": [
       "array([0.2853479 , 0.38200883, 0.06825841, 0.12243095, 0.14231529,\n",
       "       0.32019525, 0.11990118, 0.05158599, 0.07229043, 0.24971109,\n",
       "       0.0716292 , 0.08892764, 0.24352278, 0.08606543, 0.05435977,\n",
       "       0.07690825, 0.07401388, 0.0953909 , 0.21579571, 0.12389017,\n",
       "       0.07535464, 0.24451201, 0.05090345, 0.24720297, 0.10295721,\n",
       "       0.27861537, 0.25978327, 0.13234757, 0.27057908, 0.26373246,\n",
       "       0.24992642, 0.31610102, 0.07271787, 0.07739477, 0.06558728,\n",
       "       0.08084336, 0.07326641, 0.07814536, 0.05885465, 0.07429324,\n",
       "       0.12270868, 0.06076451, 0.07494672, 0.06723466, 0.05598184,\n",
       "       0.16868681, 0.25398497, 0.25514623, 0.24454055, 0.22829138,\n",
       "       0.38081191, 0.09078622, 0.06522668, 0.26099271, 1.        ,\n",
       "       0.29816157, 0.07520105, 0.25256472, 0.24862754, 0.0658494 ,\n",
       "       0.2752991 , 0.05834372, 0.27866592, 0.05152405, 0.37892341,\n",
       "       0.26905011, 0.0636131 , 0.29783914, 0.07653504, 0.0583834 ,\n",
       "       0.07744822, 0.07544109, 0.47227165, 0.05769338, 0.06879031,\n",
       "       0.22245432, 0.19150818, 0.06755294, 0.08543298, 0.06617325,\n",
       "       0.06132108, 0.34460519, 0.07855143, 0.25092071, 0.06826638,\n",
       "       0.24876302, 0.06306882, 0.05833221, 0.24425555, 0.15746574,\n",
       "       0.24842221, 0.06880297, 0.27177649, 0.08682067, 0.04677592,\n",
       "       0.24813673, 0.0883679 , 0.39109722, 0.24728634, 0.26352394,\n",
       "       0.25102475, 0.33912142, 0.27488418, 0.33231623, 0.07830511,\n",
       "       0.2798154 , 0.26610414, 0.06991607, 0.14571682, 0.1463466 ,\n",
       "       0.06117649, 0.07504449, 0.07012893, 0.06150762, 0.06740563,\n",
       "       0.26746678, 0.07722563, 0.06213216, 0.10543238, 0.34778548,\n",
       "       0.08569724, 0.08240667, 0.11593229, 0.2798499 , 0.07128642,\n",
       "       0.26572347, 0.27590552, 0.20319615, 0.16467515, 0.5       ,\n",
       "       0.25371678, 0.07818549, 0.07275009, 0.06824557, 0.07125119,\n",
       "       0.24080261, 0.07904599, 0.385128  , 0.06049531, 0.06820807,\n",
       "       0.06234156, 0.15414608, 0.26872104, 0.06237864, 0.1202608 ,\n",
       "       0.13150813, 0.06387642, 0.16408124, 0.08244967, 0.29989002,\n",
       "       0.06880716, 0.06658985])"
      ]
     },
     "execution_count": 66,
     "metadata": {},
     "output_type": "execute_result"
    }
   ],
   "source": [
    "weight = np.exp(np.log(0.5) * dtw_class_t / dnn)\n",
    "weight"
   ]
  },
  {
   "cell_type": "code",
   "execution_count": 73,
   "metadata": {},
   "outputs": [
    {
     "name": "stdout",
     "output_type": "stream",
     "text": [
      "Attempt 1\n",
      "[DBA] epoch 1, cost: 196.731\n",
      "[DBA] epoch 2, cost: 120.742\n",
      "[DBA] epoch 3, cost: 109.526\n",
      "[DBA] epoch 4, cost: 106.774\n",
      "[DBA] epoch 5, cost: 105.366\n",
      "[DBA] epoch 6, cost: 104.431\n",
      "[DBA] epoch 7, cost: 103.758\n",
      "[DBA] epoch 8, cost: 103.260\n",
      "[DBA] epoch 9, cost: 102.917\n",
      "[DBA] epoch 10, cost: 102.635\n",
      "[DBA] epoch 11, cost: 102.422\n",
      "[DBA] epoch 12, cost: 102.252\n",
      "[DBA] epoch 13, cost: 102.094\n",
      "[DBA] epoch 14, cost: 101.941\n",
      "[DBA] epoch 15, cost: 101.818\n",
      "[DBA] epoch 16, cost: 101.730\n",
      "[DBA] epoch 17, cost: 101.640\n",
      "[DBA] epoch 18, cost: 101.563\n",
      "[DBA] epoch 19, cost: 101.503\n",
      "[DBA] epoch 20, cost: 101.449\n",
      "[DBA] epoch 21, cost: 101.409\n",
      "[DBA] epoch 22, cost: 101.374\n",
      "[DBA] epoch 23, cost: 101.346\n",
      "[DBA] epoch 24, cost: 101.316\n",
      "[DBA] epoch 25, cost: 101.287\n",
      "[DBA] epoch 26, cost: 101.260\n",
      "[DBA] epoch 27, cost: 101.229\n",
      "[DBA] epoch 28, cost: 101.206\n",
      "[DBA] epoch 29, cost: 101.189\n",
      "[DBA] epoch 30, cost: 101.172\n"
     ]
    },
    {
     "data": {
      "text/plain": [
       "array([[ 0.05269497, -0.00605071],\n",
       "       [-0.07568017, -0.08923488],\n",
       "       [-0.06598281,  0.07270323],\n",
       "       ...,\n",
       "       [-0.09785316, -0.12348897],\n",
       "       [-0.00418212,  0.18491132],\n",
       "       [ 0.00954557, -0.0525043 ]])"
      ]
     },
     "execution_count": 73,
     "metadata": {},
     "output_type": "execute_result"
    }
   ],
   "source": [
    "dba_avg_t_star = dtw_barycenter_averaging(class_x, weights=weight, verbose=True)\n",
    "dba_avg_t_star"
   ]
  },
  {
   "cell_type": "code",
   "execution_count": 71,
   "metadata": {},
   "outputs": [
    {
     "data": {
      "text/plain": [
       "(1600, 2)"
      ]
     },
     "execution_count": 71,
     "metadata": {},
     "output_type": "execute_result"
    }
   ],
   "source": [
    "dba_avg_t_star.shape"
   ]
  },
  {
   "cell_type": "code",
   "execution_count": null,
   "metadata": {},
   "outputs": [],
   "source": []
  }
 ],
 "metadata": {
  "kernelspec": {
   "display_name": "Python 3",
   "language": "python",
   "name": "python3"
  },
  "language_info": {
   "codemirror_mode": {
    "name": "ipython",
    "version": 3
   },
   "file_extension": ".py",
   "mimetype": "text/x-python",
   "name": "python",
   "nbconvert_exporter": "python",
   "pygments_lexer": "ipython3",
   "version": "3.7.7"
  }
 },
 "nbformat": 4,
 "nbformat_minor": 4
}
