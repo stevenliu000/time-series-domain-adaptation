{
 "cells": [
  {
   "cell_type": "code",
   "execution_count": 14,
   "metadata": {},
   "outputs": [],
   "source": [
    "import numpy as np\n",
    "import os\n",
    "import torch\n",
    "from torch.utils import data"
   ]
  },
  {
   "cell_type": "code",
   "execution_count": 56,
   "metadata": {},
   "outputs": [],
   "source": [
    "class TimeSeriesChunkDataset(data.Dataset):\n",
    "    def __init__(self, x, y, context):\n",
    "        super(TimeSeriesChunkDataset, self).__init__()\n",
    "        self.x = x\n",
    "        self.y = y\n",
    "        self.context = context\n",
    "        self.points_per_series = self.x.shape[1] - self.context + 1\n",
    "        \n",
    "    def __len__(self):\n",
    "        return self.x.shape[0] * self.points_per_series\n",
    "\n",
    "    def __getitem__(self, index):\n",
    "        index_series = index // self.points_per_series\n",
    "        index_point = index % self.points_per_series\n",
    "        return_x = self.x[index_series, index_point:index_point+self.context, :]\n",
    "        return_y = np.argmax(self.y[index_series, :])\n",
    "        return return_x, return_y"
   ]
  }
 ],
 "metadata": {
  "kernelspec": {
   "display_name": "Python 3",
   "language": "python",
   "name": "python3"
  },
  "language_info": {
   "codemirror_mode": {
    "name": "ipython",
    "version": 3
   },
   "file_extension": ".py",
   "mimetype": "text/x-python",
   "name": "python",
   "nbconvert_exporter": "python",
   "pygments_lexer": "ipython3",
   "version": "3.6.9"
  }
 },
 "nbformat": 4,
 "nbformat_minor": 2
}
