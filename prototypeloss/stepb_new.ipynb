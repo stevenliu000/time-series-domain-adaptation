{
 "cells": [
  {
   "cell_type": "code",
   "execution_count": 1,
   "metadata": {},
   "outputs": [],
   "source": [
    "import sys, os, inspect\n",
    "current_dir = os.path.dirname(os.path.abspath(inspect.getfile(inspect.currentframe())))\n",
    "parent_dir = os.path.dirname(current_dir)\n",
    "sys.path.insert(0, parent_dir)\n",
    "sys.path.insert(0, os.path.join(parent_dir,'spring-break'))"
   ]
  },
  {
   "cell_type": "code",
   "execution_count": 2,
   "metadata": {},
   "outputs": [],
   "source": [
    "import numpy as np\n",
    "import random\n",
    "import copy\n",
    "import math\n",
    "from tqdm import tqdm\n",
    "import torch\n",
    "from torch import nn\n",
    "from torch.utils.data import Dataset, DataLoader\n",
    "from torch.optim.lr_scheduler import ReduceLROnPlateau\n",
    "import torch.nn.functional as F\n",
    "import torch.backends.cudnn as cudnn\n",
    "from martins.complex_transformer import ComplexTransformer\n",
    "from FNN import FNN\n",
    "from GAN import Generator, Discriminator\n",
    "from data_utils import *\n",
    "import argparse\n",
    "import logging\n",
    "import logging.handlers\n",
    "import pickle\n",
    "from centerloss import CenterLoss"
   ]
  },
  {
   "cell_type": "markdown",
   "metadata": {},
   "source": [
    "# Dataloader"
   ]
  },
  {
   "cell_type": "code",
   "execution_count": 3,
   "metadata": {},
   "outputs": [],
   "source": [
    "class JoinDataset(Dataset):\n",
    "    def __init__(self, source_x, source_y, target_x, target_y, random=False):\n",
    "        self.source_x = source_x\n",
    "        self.source_y = source_y\n",
    "        self.target_x = target_x\n",
    "        self.target_y = target_y\n",
    "        \n",
    "        self.source_len = self.source_y.shape[0]\n",
    "        self.target_len = self.target_y.shape[0]\n",
    "    \n",
    "        self.random = random\n",
    "    def __len__(self):\n",
    "        return self.target_len\n",
    "    \n",
    "    def __getitem__(self, index):\n",
    "        if self.random:\n",
    "            index_source = random.randrange(source_len)\n",
    "            index_target = random.randrange(target_len)\n",
    "        else:\n",
    "            index_source = index\n",
    "            index_target = index\n",
    "\n",
    "        return (self.source_x[index_source], self.source_y[index_source]), (self.target_x[index_target], self.target_y[index_target])\n",
    "    \n",
    "    \n",
    "class SingleDataset(Dataset):\n",
    "    def __init__(self, x, y):\n",
    "            self.x = x\n",
    "            self.y = y\n",
    "            self.len = self.y.shape[0]\n",
    "    \n",
    "    def __len__(self):\n",
    "        return self.len\n",
    "    \n",
    "    def __getitem__(self, index):\n",
    "        return self.x[index], self.y[index]\n"
   ]
  },
  {
   "cell_type": "markdown",
   "metadata": {},
   "source": [
    "# Parser"
   ]
  },
  {
   "cell_type": "code",
   "execution_count": null,
   "metadata": {},
   "outputs": [],
   "source": [
    "# Parameters\n",
    "parser = argparse.ArgumentParser(description='JDA Time series adaptation')\n",
    "parser.add_argument(\"--data_path\", type=str, default=\"/projects/rsalakhugroup/complex/domain_adaptation\", help=\"dataset path\")\n",
    "parser.add_argument(\"--task\", type=str, help='3A or 3E')\n",
    "parser.add_argument('--batch_size', type=int, default=256, help='batch size')\n",
    "parser.add_argument('--epochs', type=int, default=50, help='number of epochs')\n",
    "parser.add_argument('--lr_gan', type=float, default=1e-3, help='learning rate for adversarial')\n",
    "parser.add_argument('--lr_centerloss', type=float, default=5e-3, help='learning rate for centerloss')\n",
    "parser.add_argument('--lr_FNN', type=float, default=1e-3, help='learning rate for classification')\n",
    "parser.add_argument('--lr_encoder', type=float, default=1e-3, help='learning rate for classification')\n",
    "parser.add_argument('--lbl_percentage', type=float, default=0.7, help='percentage of which target data has label')\n",
    "parser.add_argument('--num_per_class', type=int, default=-1, help='number of sample per class when training local discriminator')\n",
    "parser.add_argument('--seed', type=int, default=0, help='manual seed')\n",
    "parser.add_argument('--save_path', type=str, help='where to store data')\n",
    "parser.add_argument('--model_save_period', type=int, default=2, help='period in which the model is saved')\n",
    "parser.add_argument('--sclass', type=float, default=0.7, help='source domain classification weight on loss function')\n",
    "parser.add_argument('--scent', type=float, default=0.01, help='source domain classification weight on centerloss')\n",
    "\n",
    "args = parser.parse_args()\n"
   ]
  },
  {
   "cell_type": "code",
   "execution_count": 4,
   "metadata": {},
   "outputs": [],
   "source": [
    "# local only\n",
    "class local_args:\n",
    "    def __init__(self, **entries):\n",
    "        self.__dict__.update(entries)\n",
    "        \n",
    "args = local_args(**{\n",
    "    'data_path': '/Users/tianqinli/Code/Russ/time-series-domain-adaptation/data_unzip',\n",
    "    'task': '3E',\n",
    "    'num_class': 50,\n",
    "    'batch_size': 100,\n",
    "    'num_per_class': -1,\n",
    "    'gap': 5,\n",
    "    'lbl_percentage':0.7,\n",
    "    'lr_gan': 1e-4,\n",
    "    'lr_FNN': 1e-4,\n",
    "    'lr_encoder': 1e-4,\n",
    "    'epochs': 2,\n",
    "    'clip_value': 0.01,\n",
    "    'n_critic': 4,\n",
    "    'sclass': 0.7,\n",
    "    'scent': 1e-2,\n",
    "    'seed': None,\n",
    "    'save_path': '/Users/tianqinli/Code/Russ/time-series-domain-adaptation/train_related',\n",
    "    'model_save_period': 1,\n",
    "    'lr_centerloss': 1e-3,\n",
    "    'lr_prototype': 1e-3,\n",
    "    'sprototype': 1e-2,\n",
    "    'seed': 0,\n",
    "    'select_pretrain_epoch': 77,\n",
    "    'epoch_begin_prototype': 20\n",
    "})"
   ]
  },
  {
   "cell_type": "code",
   "execution_count": null,
   "metadata": {},
   "outputs": [],
   "source": []
  }
 ],
 "metadata": {
  "kernelspec": {
   "display_name": "russ",
   "language": "python",
   "name": "russ"
  },
  "language_info": {
   "codemirror_mode": {
    "name": "ipython",
    "version": 3
   },
   "file_extension": ".py",
   "mimetype": "text/x-python",
   "name": "python",
   "nbconvert_exporter": "python",
   "pygments_lexer": "ipython3",
   "version": "3.8.2"
  }
 },
 "nbformat": 4,
 "nbformat_minor": 4
}
